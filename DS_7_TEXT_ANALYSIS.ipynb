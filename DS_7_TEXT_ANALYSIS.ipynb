{
 "cells": [
  {
   "cell_type": "markdown",
   "metadata": {
    "id": "Wg-NdAi98asc"
   },
   "source": [
    "## Importing Required Libraries (NLTK)"
   ]
  },
  {
   "cell_type": "code",
   "execution_count": 77,
   "metadata": {
    "colab": {
     "base_uri": "https://localhost:8080/"
    },
    "id": "8cyKq0_N__Ry",
    "outputId": "74d79329-e740-4272-c7bf-c69bee9ab9e3"
   },
   "outputs": [
    {
     "name": "stderr",
     "output_type": "stream",
     "text": [
      "[nltk_data] Downloading package punkt to C:\\Users\\Aditya\n",
      "[nltk_data]     Kapole\\AppData\\Roaming\\nltk_data...\n",
      "[nltk_data]   Package punkt is already up-to-date!\n",
      "[nltk_data] Downloading package wordnet to C:\\Users\\Aditya\n",
      "[nltk_data]     Kapole\\AppData\\Roaming\\nltk_data...\n",
      "[nltk_data]   Package wordnet is already up-to-date!\n",
      "[nltk_data] Downloading package averaged_perceptron_tagger to\n",
      "[nltk_data]     C:\\Users\\Aditya Kapole\\AppData\\Roaming\\nltk_data...\n",
      "[nltk_data]   Package averaged_perceptron_tagger is already up-to-\n",
      "[nltk_data]       date!\n",
      "[nltk_data] Downloading package stopwords to C:\\Users\\Aditya\n",
      "[nltk_data]     Kapole\\AppData\\Roaming\\nltk_data...\n",
      "[nltk_data]   Package stopwords is already up-to-date!\n"
     ]
    }
   ],
   "source": [
    "import nltk\n",
    "nltk.download('punkt') #Downloads the Punkt tokenizer models for tokenizing text into sentences and words.\n",
    "nltk.download('wordnet') # : Downloads the WordNet database, which is a large lexical database of English.\n",
    "nltk.download('averaged_perceptron_tagger') #Downloads the pre-trained model for part-of-speech tagging.\n",
    "nltk.download('stopwords') #Downloads a list of stopwords for various languages that can be used for filtering out common words from text data.\n",
    "from nltk import sent_tokenize\n",
    "from nltk import word_tokenize\n",
    "from nltk.corpus import stopwords"
   ]
  },
  {
   "cell_type": "code",
   "execution_count": 78,
   "metadata": {
    "id": "XgXH8N3GAkKP"
   },
   "outputs": [],
   "source": [
    "from nltk.stem import PorterStemmer\n",
    "from nltk.stem.snowball import SnowballStemmer\n",
    "from nltk.stem import LancasterStemmer\n",
    "from nltk.stem import WordNetLemmatizer\n",
    "lemmatizer = WordNetLemmatizer()"
   ]
  },
  {
   "cell_type": "markdown",
   "metadata": {
    "id": "s3ZcOc148gVV"
   },
   "source": [
    "## Reading from Text file"
   ]
  },
  {
   "cell_type": "code",
   "execution_count": 79,
   "metadata": {
    "id": "-Ir9sDbO2-Z-"
   },
   "outputs": [],
   "source": [
    "with open('nlp_text.txt', 'r') as file:\n",
    "    text_op = file.read().replace('\\n', '')\n",
    "\n",
    "# n summary, this line of code reads the contents of a text file and stores it in a variable called text_op, removing any newline characters in the process.\n"
   ]
  },
  {
   "cell_type": "code",
   "execution_count": 80,
   "metadata": {
    "colab": {
     "base_uri": "https://localhost:8080/"
    },
    "id": "vkOwEupQ3KQ9",
    "outputId": "48d39dfb-1121-44d3-bcd2-8b6d2c2dfd64"
   },
   "outputs": [
    {
     "name": "stdout",
     "output_type": "stream",
     "text": [
      "6270\n"
     ]
    }
   ],
   "source": [
    "print(len(text_op))"
   ]
  },
  {
   "cell_type": "code",
   "execution_count": 81,
   "metadata": {
    "id": "UpZ3e686__oG"
   },
   "outputs": [],
   "source": [
    "text='A psychological portrait of a woman in distress that manages to feel packed with feeling despite its airy presentation—but more than that, this is an angry book, and the shimmer off the character\\'s rage is gripping all on its own'"
   ]
  },
  {
   "cell_type": "markdown",
   "metadata": {
    "id": "aVStEqNs8ma0"
   },
   "source": [
    "\n",
    "## Tokenization:\r\n",
    "Explanation: Tokenization is the process of breaking down text into smaller units called tokens. These tokens can be words, phrases, symbols, or other meaningful elements.\r\n",
    "Example: Let's say you have the sentence: \"The quick brown fox jumps over the lazy dog.\" Tokenizing this sentence would result in tokens like: \"The\", \"quick\", \"brown\", \"fox\", \"jumps\", \"over\", \"the\", \"lazy\", \"dog\"."
   ]
  },
  {
   "cell_type": "code",
   "execution_count": 82,
   "metadata": {
    "colab": {
     "base_uri": "https://localhost:8080/"
    },
    "id": "EGq7XckmAegC",
    "outputId": "d9903072-38c4-4f41-a210-8a3327f7a91f"
   },
   "outputs": [
    {
     "name": "stdout",
     "output_type": "stream",
     "text": [
      "['Lorem ipsum dolor sit amet, consectetur adipiscing elit.', 'Ut fringilla risus eu nulla ornare dapibus.Nam faucibus erat urna, id aliquam nibh sodales a. Suspendisse vestibulum elementum enim velullamcorper.', 'Phasellus aliquet cursus lacus, eu lacinia ante commodo quis.', 'Proin varius euismodconsequat.', 'Etiam pretium iaculis leo, vitae dignissim eros consectetur vitae.', 'Proin hendrerit justout justo aliquam cursus.', 'Mauris odio magna, molestie ut sodales at, ultricies ut nulla.', 'Vestibulumvitae turpis egestas, suscipit ante a, consectetur ex.', 'Cras iaculis massa a lacinia dapibus.Vivamus laoreet, magna vehicula commodo venenatis, sem nibh mollis lacus, vitae dictum elit lacusiex.', 'Morbi tempor eleifend dui.', 'Praesent pellentesque justo interdum, rhoncus mi vitae, posuere dui.Mauris hendrerit justo at pellentesque ultrices.', 'Nulla pulvinar lorem nec ligula aliquet aliquam.Curabitur purus dolor, fermentum ut dictum quis, dignissim nec mi.', 'Nunc eget mauris id nibh tristiquemollis.', 'Fusce vehicula, arcu imperdiet vestibulum varius, dui nisi ultricies lorem, in laoreet ipsumipsum et felis.', 'Quisque diam tellus, varius in metus ut, congue venenatis ante.', 'Quisque a nisi nisl.Lorem ipsum dolor sit amet, consectetur adipiscing elit.', 'Sed rutrum nibh in massa elementumtristique.', 'Sed suscipit id augue id pharetra.', 'Pellentesque velit orci, accumsan eu ante vel, variussuscipit orci.Donec maximus convallis dui, et mattis tortor pretium eleifend.', 'Nam erat justo, semper id semper non,vulputate eu ligula.', 'Sed purus augue, euismod eget tellus porttitor, lacinia blandit nulla.', 'Sed nonpretium tortor, quis laoreet nulla.', 'Duis sed pretium libero, quis semper est.', 'Nunc luctus porttitorquam, ut pulvinar metus condimentum eu.', 'Class aptent taciti sociosqu ad litora torquent per conubianostra, per inceptos himenaeos.', 'Fusce et velit a urna sagittis dignissim.Integer rutrum, mauris sed volutpat lobortis, nulla felis pellentesque dui, a egestas ex magna idtellus.', 'Mauris ut nisi dignissim, pharetra lorem a, interdum erat.', 'Suspendisse nec est id miefficitur ultrices.', 'Suspendisse odio nisl, commodo vel cursus ut, hendrerit quis sem.', 'Duis enim elit,dapibus nec auctor sit amet, pellentesque nec neque.', 'Sed velit lorem, laoreet at tellus at, laoreetmalesuada ipsum.', 'Nam pulvinar ullamcorper justo sed posuere.', 'Ut aliquam gravida velit id tempor.Aenean consequat vehicula ullamcorper.', 'Nunc vulputate mi ex, sed mollis sapien iaculis id.', 'Aeneanfacilisis nibh nisl, ut laoreet ipsum pulvinar ac.', 'Aliquam consequat odio sed ligula elementum, nonullamcorper nibh egestas.', 'Ut convallis feugiat elit, a iaculis nibh volutpat tempor.', 'Praesent idaugue magna.', 'Praesent consequat id tellus et aliquam.', 'Pellentesque volutpat felis quis nibh bibendum,ac consectetur metus commodo.Praesent condimentum cursus nulla, vel tempus ante molestie ac.', 'Sed venenatis at augue non elementum.Fusce non venenatis magna.', 'Phasellus sit amet blandit erat.', 'Nulla posuere velit in commodo egestas.Nulla ultrices risus et purus hendrerit fringilla.', 'Fusce in tempor eros, ut imperdiet nunc.', 'Nuncvenenatis, neque vitae tempus ullamcorper, elit augue mollis dolor, sit amet eleifend leo maurispretium nisl.Proin nec quam non neque imperdiet porttitor sit amet nec augue.', 'Aenean at consequat turpis, sit ametfeugiat elit.', 'Morbi pharetra lectus dictum enim ultricies finibus.', 'Lorem ipsum dolor sit amet,consectetur adipiscing elit.', 'Aliquam sed massa at nisi sollicitudin mollis.', 'Proin varius elementumtortor, tincidunt viverra mi venenatis in.', 'Cras non malesuada arcu.Fusce lorem est, ultricies quis sagittis eleifend, porttitor at purus.', 'Nullam molestie purus ac nisieuismod malesuada.', 'Sed pulvinar non libero quis varius.', 'In efficitur ultrices justo, vel consecteturmi facilisis non.', 'Quisque mi purus, efficitur ut tempus nec, dictum eu urna.', 'Pellentesque habitantmorbi tristique senectus et netus et malesuada fames ac turpis egestas.', 'Vestibulum ante ipsum primisin faucibus orci luctus et ultrices posuere cubilia curae; Pellentesque sagittis lobortis ex ataccumsan.', 'Aenean eget dui ac sapien elementum ultricies.', 'Vestibulum eget dui in turpis egestaselementum.', 'Ut condimentum, est non aliquet ultricies, dui metus varius mauris, id pharetra justo nislnec dui.', 'Pellentesque ullamcorper sollicitudin tellus, vitae posuere tellus semper vel.', 'Donec semelit, molestie eget lectus ac, mollis feugiat erat.', 'Aliquam in velit eu lorem suscipit molestie quiseu nisi.', 'Aliquam ipsum libero, blandit vel risus ut, porttitor varius turpis.Pellentesque et posuere libero.', 'Nulla eget ex justo.', 'Pellentesque commodo accumsan erat, atullamcorper sapien laoreet dignissim.', 'Proin lacinia sem purus, at feugiat augue accumsan sed.', 'Vivamusa ipsum et dui porta consequat.', 'Ut condimentum ante sed dignissim pretium.', 'Duis rutrum viverra metuseu faucibus.', 'Donec eu congue nisl, ultrices consequat sapien.', 'Duis at justo nulla.', 'In non est eu exscelerisque tempor.', 'Ut sodales dictum pellentesque.', 'Proin erat augue, ornare ut velit a, posueresagittis enim.', 'Mauris nec fringilla lorem, quis tristique lectus.', 'Aenean eu blandit arcu.Fusce finibus scelerisque lectus, tincidunt placerat turpis semper nec.', 'Integer ut tellus eu loremornare congue.', 'Nullam a ex enim.', 'Integer id ipsum placerat, varius sem quis, congue leo.', 'Sed sodalesest a molestie eleifend.', 'Duis metus est, vestibulum vel porta non, feugiat vel leo.', 'Nam luctus liberoac magna faucibus rutrum.', 'In hac habitasse platea dictumst.', 'Proin accumsan posuere felis a sagittis.Nunc porttitor pretium lectus, at vulputate elit pretium nec.', 'Nullam sollicitudin semper felis, vitaeblandit enim.', 'Nullam consectetur pellentesque commodo.Nullam nec dictum ligula.', 'Duis nec augue venenatis, fringilla ante at, suscipit turpis.', 'Quisqueimperdiet, orci sit amet feugiat auctor, nibh felis feugiat mi, vitae molestie ex lorem et quam.Quisque rhoncus nisi eu bibendum placerat.', 'Quisque et feugiat erat.', 'Nulla orci sem, semper in arcuporttitor, ullamcorper malesuada elit.', 'Orci varius natoque penatibus et magnis dis parturient montes,nascetur ridiculus mus.', 'Etiam ullamcorper dignissim risus et dapibus.', 'Curabitur interdum turpis sitamet sapien dapibus, sed bibendum neque consectetur.', 'Sed neque velit, convallis at est quis, variusfeugiat nibh.', 'Nam bibendum lacinia mollis.', 'Nullam commodo congue mattis.']\n"
     ]
    }
   ],
   "source": [
    "tokens_sents = nltk.sent_tokenize(text_op)\n",
    "print(tokens_sents)"
   ]
  },
  {
   "cell_type": "code",
   "execution_count": 83,
   "metadata": {
    "colab": {
     "base_uri": "https://localhost:8080/"
    },
    "id": "9Nf8B9QxAgdF",
    "outputId": "3f83da7c-f8a1-4b76-e19c-032fe46930c0"
   },
   "outputs": [
    {
     "name": "stdout",
     "output_type": "stream",
     "text": [
      "['Lorem', 'ipsum', 'dolor', 'sit', 'amet', ',', 'consectetur', 'adipiscing', 'elit', '.', 'Ut', 'fringilla', 'risus', 'eu', 'nulla', 'ornare', 'dapibus.Nam', 'faucibus', 'erat', 'urna', ',', 'id', 'aliquam', 'nibh', 'sodales', 'a.', 'Suspendisse', 'vestibulum', 'elementum', 'enim', 'velullamcorper', '.', 'Phasellus', 'aliquet', 'cursus', 'lacus', ',', 'eu', 'lacinia', 'ante', 'commodo', 'quis', '.', 'Proin', 'varius', 'euismodconsequat', '.', 'Etiam', 'pretium', 'iaculis', 'leo', ',', 'vitae', 'dignissim', 'eros', 'consectetur', 'vitae', '.', 'Proin', 'hendrerit', 'justout', 'justo', 'aliquam', 'cursus', '.', 'Mauris', 'odio', 'magna', ',', 'molestie', 'ut', 'sodales', 'at', ',', 'ultricies', 'ut', 'nulla', '.', 'Vestibulumvitae', 'turpis', 'egestas', ',', 'suscipit', 'ante', 'a', ',', 'consectetur', 'ex', '.', 'Cras', 'iaculis', 'massa', 'a', 'lacinia', 'dapibus.Vivamus', 'laoreet', ',', 'magna', 'vehicula', 'commodo', 'venenatis', ',', 'sem', 'nibh', 'mollis', 'lacus', ',', 'vitae', 'dictum', 'elit', 'lacusiex', '.', 'Morbi', 'tempor', 'eleifend', 'dui', '.', 'Praesent', 'pellentesque', 'justo', 'interdum', ',', 'rhoncus', 'mi', 'vitae', ',', 'posuere', 'dui.Mauris', 'hendrerit', 'justo', 'at', 'pellentesque', 'ultrices', '.', 'Nulla', 'pulvinar', 'lorem', 'nec', 'ligula', 'aliquet', 'aliquam.Curabitur', 'purus', 'dolor', ',', 'fermentum', 'ut', 'dictum', 'quis', ',', 'dignissim', 'nec', 'mi', '.', 'Nunc', 'eget', 'mauris', 'id', 'nibh', 'tristiquemollis', '.', 'Fusce', 'vehicula', ',', 'arcu', 'imperdiet', 'vestibulum', 'varius', ',', 'dui', 'nisi', 'ultricies', 'lorem', ',', 'in', 'laoreet', 'ipsumipsum', 'et', 'felis', '.', 'Quisque', 'diam', 'tellus', ',', 'varius', 'in', 'metus', 'ut', ',', 'congue', 'venenatis', 'ante', '.', 'Quisque', 'a', 'nisi', 'nisl.Lorem', 'ipsum', 'dolor', 'sit', 'amet', ',', 'consectetur', 'adipiscing', 'elit', '.', 'Sed', 'rutrum', 'nibh', 'in', 'massa', 'elementumtristique', '.', 'Sed', 'suscipit', 'id', 'augue', 'id', 'pharetra', '.', 'Pellentesque', 'velit', 'orci', ',', 'accumsan', 'eu', 'ante', 'vel', ',', 'variussuscipit', 'orci.Donec', 'maximus', 'convallis', 'dui', ',', 'et', 'mattis', 'tortor', 'pretium', 'eleifend', '.', 'Nam', 'erat', 'justo', ',', 'semper', 'id', 'semper', 'non', ',', 'vulputate', 'eu', 'ligula', '.', 'Sed', 'purus', 'augue', ',', 'euismod', 'eget', 'tellus', 'porttitor', ',', 'lacinia', 'blandit', 'nulla', '.', 'Sed', 'nonpretium', 'tortor', ',', 'quis', 'laoreet', 'nulla', '.', 'Duis', 'sed', 'pretium', 'libero', ',', 'quis', 'semper', 'est', '.', 'Nunc', 'luctus', 'porttitorquam', ',', 'ut', 'pulvinar', 'metus', 'condimentum', 'eu', '.', 'Class', 'aptent', 'taciti', 'sociosqu', 'ad', 'litora', 'torquent', 'per', 'conubianostra', ',', 'per', 'inceptos', 'himenaeos', '.', 'Fusce', 'et', 'velit', 'a', 'urna', 'sagittis', 'dignissim.Integer', 'rutrum', ',', 'mauris', 'sed', 'volutpat', 'lobortis', ',', 'nulla', 'felis', 'pellentesque', 'dui', ',', 'a', 'egestas', 'ex', 'magna', 'idtellus', '.', 'Mauris', 'ut', 'nisi', 'dignissim', ',', 'pharetra', 'lorem', 'a', ',', 'interdum', 'erat', '.', 'Suspendisse', 'nec', 'est', 'id', 'miefficitur', 'ultrices', '.', 'Suspendisse', 'odio', 'nisl', ',', 'commodo', 'vel', 'cursus', 'ut', ',', 'hendrerit', 'quis', 'sem', '.', 'Duis', 'enim', 'elit', ',', 'dapibus', 'nec', 'auctor', 'sit', 'amet', ',', 'pellentesque', 'nec', 'neque', '.', 'Sed', 'velit', 'lorem', ',', 'laoreet', 'at', 'tellus', 'at', ',', 'laoreetmalesuada', 'ipsum', '.', 'Nam', 'pulvinar', 'ullamcorper', 'justo', 'sed', 'posuere', '.', 'Ut', 'aliquam', 'gravida', 'velit', 'id', 'tempor.Aenean', 'consequat', 'vehicula', 'ullamcorper', '.', 'Nunc', 'vulputate', 'mi', 'ex', ',', 'sed', 'mollis', 'sapien', 'iaculis', 'id', '.', 'Aeneanfacilisis', 'nibh', 'nisl', ',', 'ut', 'laoreet', 'ipsum', 'pulvinar', 'ac', '.', 'Aliquam', 'consequat', 'odio', 'sed', 'ligula', 'elementum', ',', 'nonullamcorper', 'nibh', 'egestas', '.', 'Ut', 'convallis', 'feugiat', 'elit', ',', 'a', 'iaculis', 'nibh', 'volutpat', 'tempor', '.', 'Praesent', 'idaugue', 'magna', '.', 'Praesent', 'consequat', 'id', 'tellus', 'et', 'aliquam', '.', 'Pellentesque', 'volutpat', 'felis', 'quis', 'nibh', 'bibendum', ',', 'ac', 'consectetur', 'metus', 'commodo.Praesent', 'condimentum', 'cursus', 'nulla', ',', 'vel', 'tempus', 'ante', 'molestie', 'ac', '.', 'Sed', 'venenatis', 'at', 'augue', 'non', 'elementum.Fusce', 'non', 'venenatis', 'magna', '.', 'Phasellus', 'sit', 'amet', 'blandit', 'erat', '.', 'Nulla', 'posuere', 'velit', 'in', 'commodo', 'egestas.Nulla', 'ultrices', 'risus', 'et', 'purus', 'hendrerit', 'fringilla', '.', 'Fusce', 'in', 'tempor', 'eros', ',', 'ut', 'imperdiet', 'nunc', '.', 'Nuncvenenatis', ',', 'neque', 'vitae', 'tempus', 'ullamcorper', ',', 'elit', 'augue', 'mollis', 'dolor', ',', 'sit', 'amet', 'eleifend', 'leo', 'maurispretium', 'nisl.Proin', 'nec', 'quam', 'non', 'neque', 'imperdiet', 'porttitor', 'sit', 'amet', 'nec', 'augue', '.', 'Aenean', 'at', 'consequat', 'turpis', ',', 'sit', 'ametfeugiat', 'elit', '.', 'Morbi', 'pharetra', 'lectus', 'dictum', 'enim', 'ultricies', 'finibus', '.', 'Lorem', 'ipsum', 'dolor', 'sit', 'amet', ',', 'consectetur', 'adipiscing', 'elit', '.', 'Aliquam', 'sed', 'massa', 'at', 'nisi', 'sollicitudin', 'mollis', '.', 'Proin', 'varius', 'elementumtortor', ',', 'tincidunt', 'viverra', 'mi', 'venenatis', 'in', '.', 'Cras', 'non', 'malesuada', 'arcu.Fusce', 'lorem', 'est', ',', 'ultricies', 'quis', 'sagittis', 'eleifend', ',', 'porttitor', 'at', 'purus', '.', 'Nullam', 'molestie', 'purus', 'ac', 'nisieuismod', 'malesuada', '.', 'Sed', 'pulvinar', 'non', 'libero', 'quis', 'varius', '.', 'In', 'efficitur', 'ultrices', 'justo', ',', 'vel', 'consecteturmi', 'facilisis', 'non', '.', 'Quisque', 'mi', 'purus', ',', 'efficitur', 'ut', 'tempus', 'nec', ',', 'dictum', 'eu', 'urna', '.', 'Pellentesque', 'habitantmorbi', 'tristique', 'senectus', 'et', 'netus', 'et', 'malesuada', 'fames', 'ac', 'turpis', 'egestas', '.', 'Vestibulum', 'ante', 'ipsum', 'primisin', 'faucibus', 'orci', 'luctus', 'et', 'ultrices', 'posuere', 'cubilia', 'curae', ';', 'Pellentesque', 'sagittis', 'lobortis', 'ex', 'ataccumsan', '.', 'Aenean', 'eget', 'dui', 'ac', 'sapien', 'elementum', 'ultricies', '.', 'Vestibulum', 'eget', 'dui', 'in', 'turpis', 'egestaselementum', '.', 'Ut', 'condimentum', ',', 'est', 'non', 'aliquet', 'ultricies', ',', 'dui', 'metus', 'varius', 'mauris', ',', 'id', 'pharetra', 'justo', 'nislnec', 'dui', '.', 'Pellentesque', 'ullamcorper', 'sollicitudin', 'tellus', ',', 'vitae', 'posuere', 'tellus', 'semper', 'vel', '.', 'Donec', 'semelit', ',', 'molestie', 'eget', 'lectus', 'ac', ',', 'mollis', 'feugiat', 'erat', '.', 'Aliquam', 'in', 'velit', 'eu', 'lorem', 'suscipit', 'molestie', 'quiseu', 'nisi', '.', 'Aliquam', 'ipsum', 'libero', ',', 'blandit', 'vel', 'risus', 'ut', ',', 'porttitor', 'varius', 'turpis.Pellentesque', 'et', 'posuere', 'libero', '.', 'Nulla', 'eget', 'ex', 'justo', '.', 'Pellentesque', 'commodo', 'accumsan', 'erat', ',', 'atullamcorper', 'sapien', 'laoreet', 'dignissim', '.', 'Proin', 'lacinia', 'sem', 'purus', ',', 'at', 'feugiat', 'augue', 'accumsan', 'sed', '.', 'Vivamusa', 'ipsum', 'et', 'dui', 'porta', 'consequat', '.', 'Ut', 'condimentum', 'ante', 'sed', 'dignissim', 'pretium', '.', 'Duis', 'rutrum', 'viverra', 'metuseu', 'faucibus', '.', 'Donec', 'eu', 'congue', 'nisl', ',', 'ultrices', 'consequat', 'sapien', '.', 'Duis', 'at', 'justo', 'nulla', '.', 'In', 'non', 'est', 'eu', 'exscelerisque', 'tempor', '.', 'Ut', 'sodales', 'dictum', 'pellentesque', '.', 'Proin', 'erat', 'augue', ',', 'ornare', 'ut', 'velit', 'a', ',', 'posueresagittis', 'enim', '.', 'Mauris', 'nec', 'fringilla', 'lorem', ',', 'quis', 'tristique', 'lectus', '.', 'Aenean', 'eu', 'blandit', 'arcu.Fusce', 'finibus', 'scelerisque', 'lectus', ',', 'tincidunt', 'placerat', 'turpis', 'semper', 'nec', '.', 'Integer', 'ut', 'tellus', 'eu', 'loremornare', 'congue', '.', 'Nullam', 'a', 'ex', 'enim', '.', 'Integer', 'id', 'ipsum', 'placerat', ',', 'varius', 'sem', 'quis', ',', 'congue', 'leo', '.', 'Sed', 'sodalesest', 'a', 'molestie', 'eleifend', '.', 'Duis', 'metus', 'est', ',', 'vestibulum', 'vel', 'porta', 'non', ',', 'feugiat', 'vel', 'leo', '.', 'Nam', 'luctus', 'liberoac', 'magna', 'faucibus', 'rutrum', '.', 'In', 'hac', 'habitasse', 'platea', 'dictumst', '.', 'Proin', 'accumsan', 'posuere', 'felis', 'a', 'sagittis.Nunc', 'porttitor', 'pretium', 'lectus', ',', 'at', 'vulputate', 'elit', 'pretium', 'nec', '.', 'Nullam', 'sollicitudin', 'semper', 'felis', ',', 'vitaeblandit', 'enim', '.', 'Nullam', 'consectetur', 'pellentesque', 'commodo.Nullam', 'nec', 'dictum', 'ligula', '.', 'Duis', 'nec', 'augue', 'venenatis', ',', 'fringilla', 'ante', 'at', ',', 'suscipit', 'turpis', '.', 'Quisqueimperdiet', ',', 'orci', 'sit', 'amet', 'feugiat', 'auctor', ',', 'nibh', 'felis', 'feugiat', 'mi', ',', 'vitae', 'molestie', 'ex', 'lorem', 'et', 'quam.Quisque', 'rhoncus', 'nisi', 'eu', 'bibendum', 'placerat', '.', 'Quisque', 'et', 'feugiat', 'erat', '.', 'Nulla', 'orci', 'sem', ',', 'semper', 'in', 'arcuporttitor', ',', 'ullamcorper', 'malesuada', 'elit', '.', 'Orci', 'varius', 'natoque', 'penatibus', 'et', 'magnis', 'dis', 'parturient', 'montes', ',', 'nascetur', 'ridiculus', 'mus', '.', 'Etiam', 'ullamcorper', 'dignissim', 'risus', 'et', 'dapibus', '.', 'Curabitur', 'interdum', 'turpis', 'sitamet', 'sapien', 'dapibus', ',', 'sed', 'bibendum', 'neque', 'consectetur', '.', 'Sed', 'neque', 'velit', ',', 'convallis', 'at', 'est', 'quis', ',', 'variusfeugiat', 'nibh', '.', 'Nam', 'bibendum', 'lacinia', 'mollis', '.', 'Nullam', 'commodo', 'congue', 'mattis', '.']\n"
     ]
    }
   ],
   "source": [
    "tokens_words = nltk.word_tokenize(text_op)\n",
    "print(tokens_words)"
   ]
  },
  {
   "cell_type": "markdown",
   "metadata": {
    "id": "hp9zFaMo8pLU"
   },
   "source": [
    "## Stemming\n",
    "Explanation: Stemming is the process of reducing words to their base or root form. It involves cutting off prefixes or suffixes to obtain the core meaning of a word.\r\n",
    "Example: If you have the words \"running\", \"runs\", and \"runner\", stemming would reduce them to the base form \"run\"."
   ]
  },
  {
   "cell_type": "code",
   "execution_count": 84,
   "metadata": {
    "colab": {
     "base_uri": "https://localhost:8080/"
    },
    "id": "53Aa42kJAiE-",
    "outputId": "a15384b3-f1d0-4e5f-b21f-9a73df42cb9a"
   },
   "outputs": [
    {
     "name": "stdout",
     "output_type": "stream",
     "text": [
      "['lorem', 'ipsum', 'dolor', 'sit', 'amet', ',', 'consectetur', 'adipisc', 'elit', '.', 'ut', 'fringilla', 'risu', 'eu', 'nulla', 'ornar', 'dapibus.nam', 'faucibu', 'erat', 'urna', ',', 'id', 'aliquam', 'nibh', 'sodal', 'a.', 'suspendiss', 'vestibulum', 'elementum', 'enim', 'velullamcorp', '.', 'phasellu', 'aliquet', 'cursu', 'lacu', ',', 'eu', 'lacinia', 'ant', 'commodo', 'qui', '.', 'proin', 'variu', 'euismodconsequat', '.', 'etiam', 'pretium', 'iaculi', 'leo', ',', 'vita', 'dignissim', 'ero', 'consectetur', 'vita', '.', 'proin', 'hendrerit', 'justout', 'justo', 'aliquam', 'cursu', '.', 'mauri', 'odio', 'magna', ',', 'molesti', 'ut', 'sodal', 'at', ',', 'ultrici', 'ut', 'nulla', '.', 'vestibulumvita', 'turpi', 'egesta', ',', 'suscipit', 'ant', 'a', ',', 'consectetur', 'ex', '.', 'cra', 'iaculi', 'massa', 'a', 'lacinia', 'dapibus.vivamu', 'laoreet', ',', 'magna', 'vehicula', 'commodo', 'venenati', ',', 'sem', 'nibh', 'molli', 'lacu', ',', 'vita', 'dictum', 'elit', 'lacusiex', '.', 'morbi', 'tempor', 'eleifend', 'dui', '.', 'praesent', 'pellentesqu', 'justo', 'interdum', ',', 'rhoncu', 'mi', 'vita', ',', 'posuer', 'dui.mauri', 'hendrerit', 'justo', 'at', 'pellentesqu', 'ultric', '.', 'nulla', 'pulvinar', 'lorem', 'nec', 'ligula', 'aliquet', 'aliquam.curabitur', 'puru', 'dolor', ',', 'fermentum', 'ut', 'dictum', 'qui', ',', 'dignissim', 'nec', 'mi', '.', 'nunc', 'eget', 'mauri', 'id', 'nibh', 'tristiquemolli', '.', 'fusc', 'vehicula', ',', 'arcu', 'imperdiet', 'vestibulum', 'variu', ',', 'dui', 'nisi', 'ultrici', 'lorem', ',', 'in', 'laoreet', 'ipsumipsum', 'et', 'feli', '.', 'quisqu', 'diam', 'tellu', ',', 'variu', 'in', 'metu', 'ut', ',', 'congu', 'venenati', 'ant', '.', 'quisqu', 'a', 'nisi', 'nisl.lorem', 'ipsum', 'dolor', 'sit', 'amet', ',', 'consectetur', 'adipisc', 'elit', '.', 'sed', 'rutrum', 'nibh', 'in', 'massa', 'elementumtristiqu', '.', 'sed', 'suscipit', 'id', 'augu', 'id', 'pharetra', '.', 'pellentesqu', 'velit', 'orci', ',', 'accumsan', 'eu', 'ant', 'vel', ',', 'variussuscipit', 'orci.donec', 'maximu', 'conval', 'dui', ',', 'et', 'matti', 'tortor', 'pretium', 'eleifend', '.', 'nam', 'erat', 'justo', ',', 'semper', 'id', 'semper', 'non', ',', 'vulput', 'eu', 'ligula', '.', 'sed', 'puru', 'augu', ',', 'euismod', 'eget', 'tellu', 'porttitor', ',', 'lacinia', 'blandit', 'nulla', '.', 'sed', 'nonpretium', 'tortor', ',', 'qui', 'laoreet', 'nulla', '.', 'dui', 'sed', 'pretium', 'libero', ',', 'qui', 'semper', 'est', '.', 'nunc', 'luctu', 'porttitorquam', ',', 'ut', 'pulvinar', 'metu', 'condimentum', 'eu', '.', 'class', 'aptent', 'taciti', 'sociosqu', 'ad', 'litora', 'torquent', 'per', 'conubianostra', ',', 'per', 'incepto', 'himenaeo', '.', 'fusc', 'et', 'velit', 'a', 'urna', 'sagitti', 'dignissim.integ', 'rutrum', ',', 'mauri', 'sed', 'volutpat', 'loborti', ',', 'nulla', 'feli', 'pellentesqu', 'dui', ',', 'a', 'egesta', 'ex', 'magna', 'idtellu', '.', 'mauri', 'ut', 'nisi', 'dignissim', ',', 'pharetra', 'lorem', 'a', ',', 'interdum', 'erat', '.', 'suspendiss', 'nec', 'est', 'id', 'miefficitur', 'ultric', '.', 'suspendiss', 'odio', 'nisl', ',', 'commodo', 'vel', 'cursu', 'ut', ',', 'hendrerit', 'qui', 'sem', '.', 'dui', 'enim', 'elit', ',', 'dapibu', 'nec', 'auctor', 'sit', 'amet', ',', 'pellentesqu', 'nec', 'nequ', '.', 'sed', 'velit', 'lorem', ',', 'laoreet', 'at', 'tellu', 'at', ',', 'laoreetmalesuada', 'ipsum', '.', 'nam', 'pulvinar', 'ullamcorp', 'justo', 'sed', 'posuer', '.', 'ut', 'aliquam', 'gravida', 'velit', 'id', 'tempor.aenean', 'consequat', 'vehicula', 'ullamcorp', '.', 'nunc', 'vulput', 'mi', 'ex', ',', 'sed', 'molli', 'sapien', 'iaculi', 'id', '.', 'aeneanfacilisi', 'nibh', 'nisl', ',', 'ut', 'laoreet', 'ipsum', 'pulvinar', 'ac', '.', 'aliquam', 'consequat', 'odio', 'sed', 'ligula', 'elementum', ',', 'nonullamcorp', 'nibh', 'egesta', '.', 'ut', 'conval', 'feugiat', 'elit', ',', 'a', 'iaculi', 'nibh', 'volutpat', 'tempor', '.', 'praesent', 'idaugu', 'magna', '.', 'praesent', 'consequat', 'id', 'tellu', 'et', 'aliquam', '.', 'pellentesqu', 'volutpat', 'feli', 'qui', 'nibh', 'bibendum', ',', 'ac', 'consectetur', 'metu', 'commodo.praes', 'condimentum', 'cursu', 'nulla', ',', 'vel', 'tempu', 'ant', 'molesti', 'ac', '.', 'sed', 'venenati', 'at', 'augu', 'non', 'elementum.fusc', 'non', 'venenati', 'magna', '.', 'phasellu', 'sit', 'amet', 'blandit', 'erat', '.', 'nulla', 'posuer', 'velit', 'in', 'commodo', 'egestas.nulla', 'ultric', 'risu', 'et', 'puru', 'hendrerit', 'fringilla', '.', 'fusc', 'in', 'tempor', 'ero', ',', 'ut', 'imperdiet', 'nunc', '.', 'nuncvenenati', ',', 'nequ', 'vita', 'tempu', 'ullamcorp', ',', 'elit', 'augu', 'molli', 'dolor', ',', 'sit', 'amet', 'eleifend', 'leo', 'maurispretium', 'nisl.proin', 'nec', 'quam', 'non', 'nequ', 'imperdiet', 'porttitor', 'sit', 'amet', 'nec', 'augu', '.', 'aenean', 'at', 'consequat', 'turpi', ',', 'sit', 'ametfeugiat', 'elit', '.', 'morbi', 'pharetra', 'lectu', 'dictum', 'enim', 'ultrici', 'finibu', '.', 'lorem', 'ipsum', 'dolor', 'sit', 'amet', ',', 'consectetur', 'adipisc', 'elit', '.', 'aliquam', 'sed', 'massa', 'at', 'nisi', 'sollicitudin', 'molli', '.', 'proin', 'variu', 'elementumtortor', ',', 'tincidunt', 'viverra', 'mi', 'venenati', 'in', '.', 'cra', 'non', 'malesuada', 'arcu.fusc', 'lorem', 'est', ',', 'ultrici', 'qui', 'sagitti', 'eleifend', ',', 'porttitor', 'at', 'puru', '.', 'nullam', 'molesti', 'puru', 'ac', 'nisieuismod', 'malesuada', '.', 'sed', 'pulvinar', 'non', 'libero', 'qui', 'variu', '.', 'in', 'efficitur', 'ultric', 'justo', ',', 'vel', 'consecteturmi', 'facilisi', 'non', '.', 'quisqu', 'mi', 'puru', ',', 'efficitur', 'ut', 'tempu', 'nec', ',', 'dictum', 'eu', 'urna', '.', 'pellentesqu', 'habitantmorbi', 'tristiqu', 'senectu', 'et', 'netu', 'et', 'malesuada', 'fame', 'ac', 'turpi', 'egesta', '.', 'vestibulum', 'ant', 'ipsum', 'primisin', 'faucibu', 'orci', 'luctu', 'et', 'ultric', 'posuer', 'cubilia', 'cura', ';', 'pellentesqu', 'sagitti', 'loborti', 'ex', 'ataccumsan', '.', 'aenean', 'eget', 'dui', 'ac', 'sapien', 'elementum', 'ultrici', '.', 'vestibulum', 'eget', 'dui', 'in', 'turpi', 'egestaselementum', '.', 'ut', 'condimentum', ',', 'est', 'non', 'aliquet', 'ultrici', ',', 'dui', 'metu', 'variu', 'mauri', ',', 'id', 'pharetra', 'justo', 'nislnec', 'dui', '.', 'pellentesqu', 'ullamcorp', 'sollicitudin', 'tellu', ',', 'vita', 'posuer', 'tellu', 'semper', 'vel', '.', 'donec', 'semelit', ',', 'molesti', 'eget', 'lectu', 'ac', ',', 'molli', 'feugiat', 'erat', '.', 'aliquam', 'in', 'velit', 'eu', 'lorem', 'suscipit', 'molesti', 'quiseu', 'nisi', '.', 'aliquam', 'ipsum', 'libero', ',', 'blandit', 'vel', 'risu', 'ut', ',', 'porttitor', 'variu', 'turpis.pellentesqu', 'et', 'posuer', 'libero', '.', 'nulla', 'eget', 'ex', 'justo', '.', 'pellentesqu', 'commodo', 'accumsan', 'erat', ',', 'atullamcorp', 'sapien', 'laoreet', 'dignissim', '.', 'proin', 'lacinia', 'sem', 'puru', ',', 'at', 'feugiat', 'augu', 'accumsan', 'sed', '.', 'vivamusa', 'ipsum', 'et', 'dui', 'porta', 'consequat', '.', 'ut', 'condimentum', 'ant', 'sed', 'dignissim', 'pretium', '.', 'dui', 'rutrum', 'viverra', 'metuseu', 'faucibu', '.', 'donec', 'eu', 'congu', 'nisl', ',', 'ultric', 'consequat', 'sapien', '.', 'dui', 'at', 'justo', 'nulla', '.', 'in', 'non', 'est', 'eu', 'exscelerisqu', 'tempor', '.', 'ut', 'sodal', 'dictum', 'pellentesqu', '.', 'proin', 'erat', 'augu', ',', 'ornar', 'ut', 'velit', 'a', ',', 'posueresagitti', 'enim', '.', 'mauri', 'nec', 'fringilla', 'lorem', ',', 'qui', 'tristiqu', 'lectu', '.', 'aenean', 'eu', 'blandit', 'arcu.fusc', 'finibu', 'scelerisqu', 'lectu', ',', 'tincidunt', 'placerat', 'turpi', 'semper', 'nec', '.', 'integ', 'ut', 'tellu', 'eu', 'loremornar', 'congu', '.', 'nullam', 'a', 'ex', 'enim', '.', 'integ', 'id', 'ipsum', 'placerat', ',', 'variu', 'sem', 'qui', ',', 'congu', 'leo', '.', 'sed', 'sodalesest', 'a', 'molesti', 'eleifend', '.', 'dui', 'metu', 'est', ',', 'vestibulum', 'vel', 'porta', 'non', ',', 'feugiat', 'vel', 'leo', '.', 'nam', 'luctu', 'liberoac', 'magna', 'faucibu', 'rutrum', '.', 'in', 'hac', 'habitass', 'platea', 'dictumst', '.', 'proin', 'accumsan', 'posuer', 'feli', 'a', 'sagittis.nunc', 'porttitor', 'pretium', 'lectu', ',', 'at', 'vulput', 'elit', 'pretium', 'nec', '.', 'nullam', 'sollicitudin', 'semper', 'feli', ',', 'vitaeblandit', 'enim', '.', 'nullam', 'consectetur', 'pellentesqu', 'commodo.nullam', 'nec', 'dictum', 'ligula', '.', 'dui', 'nec', 'augu', 'venenati', ',', 'fringilla', 'ant', 'at', ',', 'suscipit', 'turpi', '.', 'quisqueimperdiet', ',', 'orci', 'sit', 'amet', 'feugiat', 'auctor', ',', 'nibh', 'feli', 'feugiat', 'mi', ',', 'vita', 'molesti', 'ex', 'lorem', 'et', 'quam.quisqu', 'rhoncu', 'nisi', 'eu', 'bibendum', 'placerat', '.', 'quisqu', 'et', 'feugiat', 'erat', '.', 'nulla', 'orci', 'sem', ',', 'semper', 'in', 'arcuporttitor', ',', 'ullamcorp', 'malesuada', 'elit', '.', 'orci', 'variu', 'natoqu', 'penatibu', 'et', 'magni', 'di', 'parturi', 'mont', ',', 'nascetur', 'ridiculu', 'mu', '.', 'etiam', 'ullamcorp', 'dignissim', 'risu', 'et', 'dapibu', '.', 'curabitur', 'interdum', 'turpi', 'sitamet', 'sapien', 'dapibu', ',', 'sed', 'bibendum', 'nequ', 'consectetur', '.', 'sed', 'nequ', 'velit', ',', 'conval', 'at', 'est', 'qui', ',', 'variusfeugiat', 'nibh', '.', 'nam', 'bibendum', 'lacinia', 'molli', '.', 'nullam', 'commodo', 'congu', 'matti', '.']\n"
     ]
    }
   ],
   "source": [
    "stem=[]\n",
    "for i in tokens_words:\n",
    "  ps = PorterStemmer()\n",
    "  stem_word= ps.stem(i)\n",
    "  stem.append(stem_word)\n",
    "print(stem)"
   ]
  },
  {
   "cell_type": "markdown",
   "metadata": {
    "id": "H1Gdi31b8rdM"
   },
   "source": [
    "## Lemmatization\n",
    "\n",
    "Explanation: Lemmatization is similar to stemming but aims to reduce words to their dictionary or canonical form, called a lemma. This often involves considering the word's meaning and context.\r\n",
    "Example: For the word \"better\", the lemma would be \"good\". Lemmatization takes into account that \"better\" is the comparative form of \"good\" and reduces it accordingly."
   ]
  },
  {
   "cell_type": "code",
   "execution_count": 85,
   "metadata": {
    "colab": {
     "base_uri": "https://localhost:8080/"
    },
    "id": "2sBTqH2UAmGT",
    "outputId": "3e9d3577-1095-423a-9506-98f4ade1d6af"
   },
   "outputs": [
    {
     "name": "stdout",
     "output_type": "stream",
     "text": [
      "lorem ipsum dolor sit amet , consectetur adipisc elit . ut fringilla risu eu nulla ornar dapibus.nam faucibu erat urna , id aliquam nibh sodal a. suspendiss vestibulum elementum enim velullamcorp . phasellu aliquet cursu lacu , eu lacinia ant commodo qui . proin variu euismodconsequat . etiam pretium iaculi leo , vita dignissim ero consectetur vita . proin hendrerit justout justo aliquam cursu . mauri odio magna , molesti ut sodal at , ultrici ut nulla . vestibulumvita turpi egesta , suscipit ant a , consectetur ex . cra iaculi massa a lacinia dapibus.vivamu laoreet , magna vehicula commodo venenati , sem nibh molli lacu , vita dictum elit lacusiex . morbi tempor eleifend duo . praesent pellentesqu justo interdum , rhoncu mi vita , posuer dui.mauri hendrerit justo at pellentesqu ultric . nulla pulvinar lorem nec ligula aliquet aliquam.curabitur puru dolor , fermentum ut dictum qui , dignissim nec mi . nunc eget mauri id nibh tristiquemolli . fusc vehicula , arcu imperdiet vestibulum variu , duo nisi ultrici lorem , in laoreet ipsumipsum et feli . quisqu diam tellu , variu in metu ut , congu venenati ant . quisqu a nisi nisl.lorem ipsum dolor sit amet , consectetur adipisc elit . sed rutrum nibh in massa elementumtristiqu . sed suscipit id augu id pharetra . pellentesqu velit orci , accumsan eu ant vel , variussuscipit orci.donec maximu conval duo , et matti tortor pretium eleifend . nam erat justo , semper id semper non , vulput eu ligula . sed puru augu , euismod eget tellu porttitor , lacinia blandit nulla . sed nonpretium tortor , qui laoreet nulla . duo sed pretium libero , qui semper est . nunc luctu porttitorquam , ut pulvinar metu condimentum eu . class aptent taciti sociosqu ad litora torquent per conubianostra , per incepto himenaeo . fusc et velit a urna sagitti dignissim.integ rutrum , mauri sed volutpat loborti , nulla feli pellentesqu duo , a egesta ex magna idtellu . mauri ut nisi dignissim , pharetra lorem a , interdum erat . suspendiss nec est id miefficitur ultric . suspendiss odio nisl , commodo vel cursu ut , hendrerit qui sem . duo enim elit , dapibu nec auctor sit amet , pellentesqu nec nequ . sed velit lorem , laoreet at tellu at , laoreetmalesuada ipsum . nam pulvinar ullamcorp justo sed posuer . ut aliquam gravida velit id tempor.aenean consequat vehicula ullamcorp . nunc vulput mi ex , sed molli sapien iaculi id . aeneanfacilisi nibh nisl , ut laoreet ipsum pulvinar ac . aliquam consequat odio sed ligula elementum , nonullamcorp nibh egesta . ut conval feugiat elit , a iaculi nibh volutpat tempor . praesent idaugu magna . praesent consequat id tellu et aliquam . pellentesqu volutpat feli qui nibh bibendum , ac consectetur metu commodo.praes condimentum cursu nulla , vel tempu ant molesti ac . sed venenati at augu non elementum.fusc non venenati magna . phasellu sit amet blandit erat . nulla posuer velit in commodo egestas.nulla ultric risu et puru hendrerit fringilla . fusc in tempor ero , ut imperdiet nunc . nuncvenenati , nequ vita tempu ullamcorp , elit augu molli dolor , sit amet eleifend leo maurispretium nisl.proin nec quam non nequ imperdiet porttitor sit amet nec augu . aenean at consequat turpi , sit ametfeugiat elit . morbi pharetra lectu dictum enim ultrici finibu . lorem ipsum dolor sit amet , consectetur adipisc elit . aliquam sed massa at nisi sollicitudin molli . proin variu elementumtortor , tincidunt viverra mi venenati in . cra non malesuada arcu.fusc lorem est , ultrici qui sagitti eleifend , porttitor at puru . nullam molesti puru ac nisieuismod malesuada . sed pulvinar non libero qui variu . in efficitur ultric justo , vel consecteturmi facilisi non . quisqu mi puru , efficitur ut tempu nec , dictum eu urna . pellentesqu habitantmorbi tristiqu senectu et netu et malesuada fame ac turpi egesta . vestibulum ant ipsum primisin faucibu orci luctu et ultric posuer cubilia cura ; pellentesqu sagitti loborti ex ataccumsan . aenean eget duo ac sapien elementum ultrici . vestibulum eget duo in turpi egestaselementum . ut condimentum , est non aliquet ultrici , duo metu variu mauri , id pharetra justo nislnec duo . pellentesqu ullamcorp sollicitudin tellu , vita posuer tellu semper vel . donec semelit , molesti eget lectu ac , molli feugiat erat . aliquam in velit eu lorem suscipit molesti quiseu nisi . aliquam ipsum libero , blandit vel risu ut , porttitor variu turpis.pellentesqu et posuer libero . nulla eget ex justo . pellentesqu commodo accumsan erat , atullamcorp sapien laoreet dignissim . proin lacinia sem puru , at feugiat augu accumsan sed . vivamusa ipsum et duo porta consequat . ut condimentum ant sed dignissim pretium . duo rutrum viverra metuseu faucibu . donec eu congu nisl , ultric consequat sapien . duo at justo nulla . in non est eu exscelerisqu tempor . ut sodal dictum pellentesqu . proin erat augu , ornar ut velit a , posueresagitti enim . mauri nec fringilla lorem , qui tristiqu lectu . aenean eu blandit arcu.fusc finibu scelerisqu lectu , tincidunt placerat turpi semper nec . integ ut tellu eu loremornar congu . nullam a ex enim . integ id ipsum placerat , variu sem qui , congu leo . sed sodalesest a molesti eleifend . duo metu est , vestibulum vel porta non , feugiat vel leo . nam luctu liberoac magna faucibu rutrum . in hac habitass platea dictumst . proin accumsan posuer feli a sagittis.nunc porttitor pretium lectu , at vulput elit pretium nec . nullam sollicitudin semper feli , vitaeblandit enim . nullam consectetur pellentesqu commodo.nullam nec dictum ligula . duo nec augu venenati , fringilla ant at , suscipit turpi . quisqueimperdiet , orci sit amet feugiat auctor , nibh feli feugiat mi , vita molesti ex lorem et quam.quisqu rhoncu nisi eu bibendum placerat . quisqu et feugiat erat . nulla orci sem , semper in arcuporttitor , ullamcorp malesuada elit . orci variu natoqu penatibu et magni di parturi mont , nascetur ridiculu mu . etiam ullamcorp dignissim risu et dapibu . curabitur interdum turpi sitamet sapien dapibu , sed bibendum nequ consectetur . sed nequ velit , conval at est qui , variusfeugiat nibh . nam bibendum lacinia molli . nullam commodo congu matti .\n"
     ]
    }
   ],
   "source": [
    "\n",
    "lemmatized_output = ' '.join([lemmatizer.lemmatize(w) for w in stem])\n",
    "print(lemmatized_output)"
   ]
  },
  {
   "cell_type": "code",
   "execution_count": 86,
   "metadata": {
    "colab": {
     "base_uri": "https://localhost:8080/"
    },
    "id": "KaGqCAslAsex",
    "outputId": "fc221531-3001-4495-a582-26961a233ce7"
   },
   "outputs": [
    {
     "name": "stdout",
     "output_type": "stream",
     "text": [
      "['lorem', 'ipsum', 'dolor', 'sit', 'amet', ',', 'consectetur', 'adipisc', 'elit', '.', 'ut', 'fringilla', 'risu', 'eu', 'nulla', 'ornar', 'dapibus.nam', 'faucibu', 'erat', 'urna', ',', 'id', 'aliquam', 'nibh', 'sodal', 'a.', 'suspendiss', 'vestibulum', 'elementum', 'enim', 'velullamcorp', '.', 'phasellu', 'aliquet', 'cursu', 'lacu', ',', 'eu', 'lacinia', 'ant', 'commodo', 'qui', '.', 'proin', 'variu', 'euismodconsequat', '.', 'etiam', 'pretium', 'iaculi', 'leo', ',', 'vita', 'dignissim', 'ero', 'consectetur', 'vita', '.', 'proin', 'hendrerit', 'justout', 'justo', 'aliquam', 'cursu', '.', 'mauri', 'odio', 'magna', ',', 'molesti', 'ut', 'sodal', 'at', ',', 'ultrici', 'ut', 'nulla', '.', 'vestibulumvita', 'turpi', 'egesta', ',', 'suscipit', 'ant', 'a', ',', 'consectetur', 'ex', '.', 'cra', 'iaculi', 'massa', 'a', 'lacinia', 'dapibus.vivamu', 'laoreet', ',', 'magna', 'vehicula', 'commodo', 'venenati', ',', 'sem', 'nibh', 'molli', 'lacu', ',', 'vita', 'dictum', 'elit', 'lacusiex', '.', 'morbi', 'tempor', 'eleifend', 'duo', '.', 'praesent', 'pellentesqu', 'justo', 'interdum', ',', 'rhoncu', 'mi', 'vita', ',', 'posuer', 'dui.mauri', 'hendrerit', 'justo', 'at', 'pellentesqu', 'ultric', '.', 'nulla', 'pulvinar', 'lorem', 'nec', 'ligula', 'aliquet', 'aliquam.curabitur', 'puru', 'dolor', ',', 'fermentum', 'ut', 'dictum', 'qui', ',', 'dignissim', 'nec', 'mi', '.', 'nunc', 'eget', 'mauri', 'id', 'nibh', 'tristiquemolli', '.', 'fusc', 'vehicula', ',', 'arcu', 'imperdiet', 'vestibulum', 'variu', ',', 'duo', 'nisi', 'ultrici', 'lorem', ',', 'in', 'laoreet', 'ipsumipsum', 'et', 'feli', '.', 'quisqu', 'diam', 'tellu', ',', 'variu', 'in', 'metu', 'ut', ',', 'congu', 'venenati', 'ant', '.', 'quisqu', 'a', 'nisi', 'nisl.lorem', 'ipsum', 'dolor', 'sit', 'amet', ',', 'consectetur', 'adipisc', 'elit', '.', 'sed', 'rutrum', 'nibh', 'in', 'massa', 'elementumtristiqu', '.', 'sed', 'suscipit', 'id', 'augu', 'id', 'pharetra', '.', 'pellentesqu', 'velit', 'orci', ',', 'accumsan', 'eu', 'ant', 'vel', ',', 'variussuscipit', 'orci.donec', 'maximu', 'conval', 'duo', ',', 'et', 'matti', 'tortor', 'pretium', 'eleifend', '.', 'nam', 'erat', 'justo', ',', 'semper', 'id', 'semper', 'non', ',', 'vulput', 'eu', 'ligula', '.', 'sed', 'puru', 'augu', ',', 'euismod', 'eget', 'tellu', 'porttitor', ',', 'lacinia', 'blandit', 'nulla', '.', 'sed', 'nonpretium', 'tortor', ',', 'qui', 'laoreet', 'nulla', '.', 'duo', 'sed', 'pretium', 'libero', ',', 'qui', 'semper', 'est', '.', 'nunc', 'luctu', 'porttitorquam', ',', 'ut', 'pulvinar', 'metu', 'condimentum', 'eu', '.', 'class', 'aptent', 'taciti', 'sociosqu', 'ad', 'litora', 'torquent', 'per', 'conubianostra', ',', 'per', 'incepto', 'himenaeo', '.', 'fusc', 'et', 'velit', 'a', 'urna', 'sagitti', 'dignissim.integ', 'rutrum', ',', 'mauri', 'sed', 'volutpat', 'loborti', ',', 'nulla', 'feli', 'pellentesqu', 'duo', ',', 'a', 'egesta', 'ex', 'magna', 'idtellu', '.', 'mauri', 'ut', 'nisi', 'dignissim', ',', 'pharetra', 'lorem', 'a', ',', 'interdum', 'erat', '.', 'suspendiss', 'nec', 'est', 'id', 'miefficitur', 'ultric', '.', 'suspendiss', 'odio', 'nisl', ',', 'commodo', 'vel', 'cursu', 'ut', ',', 'hendrerit', 'qui', 'sem', '.', 'duo', 'enim', 'elit', ',', 'dapibu', 'nec', 'auctor', 'sit', 'amet', ',', 'pellentesqu', 'nec', 'nequ', '.', 'sed', 'velit', 'lorem', ',', 'laoreet', 'at', 'tellu', 'at', ',', 'laoreetmalesuada', 'ipsum', '.', 'nam', 'pulvinar', 'ullamcorp', 'justo', 'sed', 'posuer', '.', 'ut', 'aliquam', 'gravida', 'velit', 'id', 'tempor.aenean', 'consequat', 'vehicula', 'ullamcorp', '.', 'nunc', 'vulput', 'mi', 'ex', ',', 'sed', 'molli', 'sapien', 'iaculi', 'id', '.', 'aeneanfacilisi', 'nibh', 'nisl', ',', 'ut', 'laoreet', 'ipsum', 'pulvinar', 'ac', '.', 'aliquam', 'consequat', 'odio', 'sed', 'ligula', 'elementum', ',', 'nonullamcorp', 'nibh', 'egesta', '.', 'ut', 'conval', 'feugiat', 'elit', ',', 'a', 'iaculi', 'nibh', 'volutpat', 'tempor', '.', 'praesent', 'idaugu', 'magna', '.', 'praesent', 'consequat', 'id', 'tellu', 'et', 'aliquam', '.', 'pellentesqu', 'volutpat', 'feli', 'qui', 'nibh', 'bibendum', ',', 'ac', 'consectetur', 'metu', 'commodo.praes', 'condimentum', 'cursu', 'nulla', ',', 'vel', 'tempu', 'ant', 'molesti', 'ac', '.', 'sed', 'venenati', 'at', 'augu', 'non', 'elementum.fusc', 'non', 'venenati', 'magna', '.', 'phasellu', 'sit', 'amet', 'blandit', 'erat', '.', 'nulla', 'posuer', 'velit', 'in', 'commodo', 'egestas.nulla', 'ultric', 'risu', 'et', 'puru', 'hendrerit', 'fringilla', '.', 'fusc', 'in', 'tempor', 'ero', ',', 'ut', 'imperdiet', 'nunc', '.', 'nuncvenenati', ',', 'nequ', 'vita', 'tempu', 'ullamcorp', ',', 'elit', 'augu', 'molli', 'dolor', ',', 'sit', 'amet', 'eleifend', 'leo', 'maurispretium', 'nisl.proin', 'nec', 'quam', 'non', 'nequ', 'imperdiet', 'porttitor', 'sit', 'amet', 'nec', 'augu', '.', 'aenean', 'at', 'consequat', 'turpi', ',', 'sit', 'ametfeugiat', 'elit', '.', 'morbi', 'pharetra', 'lectu', 'dictum', 'enim', 'ultrici', 'finibu', '.', 'lorem', 'ipsum', 'dolor', 'sit', 'amet', ',', 'consectetur', 'adipisc', 'elit', '.', 'aliquam', 'sed', 'massa', 'at', 'nisi', 'sollicitudin', 'molli', '.', 'proin', 'variu', 'elementumtortor', ',', 'tincidunt', 'viverra', 'mi', 'venenati', 'in', '.', 'cra', 'non', 'malesuada', 'arcu.fusc', 'lorem', 'est', ',', 'ultrici', 'qui', 'sagitti', 'eleifend', ',', 'porttitor', 'at', 'puru', '.', 'nullam', 'molesti', 'puru', 'ac', 'nisieuismod', 'malesuada', '.', 'sed', 'pulvinar', 'non', 'libero', 'qui', 'variu', '.', 'in', 'efficitur', 'ultric', 'justo', ',', 'vel', 'consecteturmi', 'facilisi', 'non', '.', 'quisqu', 'mi', 'puru', ',', 'efficitur', 'ut', 'tempu', 'nec', ',', 'dictum', 'eu', 'urna', '.', 'pellentesqu', 'habitantmorbi', 'tristiqu', 'senectu', 'et', 'netu', 'et', 'malesuada', 'fame', 'ac', 'turpi', 'egesta', '.', 'vestibulum', 'ant', 'ipsum', 'primisin', 'faucibu', 'orci', 'luctu', 'et', 'ultric', 'posuer', 'cubilia', 'cura', ';', 'pellentesqu', 'sagitti', 'loborti', 'ex', 'ataccumsan', '.', 'aenean', 'eget', 'duo', 'ac', 'sapien', 'elementum', 'ultrici', '.', 'vestibulum', 'eget', 'duo', 'in', 'turpi', 'egestaselementum', '.', 'ut', 'condimentum', ',', 'est', 'non', 'aliquet', 'ultrici', ',', 'duo', 'metu', 'variu', 'mauri', ',', 'id', 'pharetra', 'justo', 'nislnec', 'duo', '.', 'pellentesqu', 'ullamcorp', 'sollicitudin', 'tellu', ',', 'vita', 'posuer', 'tellu', 'semper', 'vel', '.', 'donec', 'semelit', ',', 'molesti', 'eget', 'lectu', 'ac', ',', 'molli', 'feugiat', 'erat', '.', 'aliquam', 'in', 'velit', 'eu', 'lorem', 'suscipit', 'molesti', 'quiseu', 'nisi', '.', 'aliquam', 'ipsum', 'libero', ',', 'blandit', 'vel', 'risu', 'ut', ',', 'porttitor', 'variu', 'turpis.pellentesqu', 'et', 'posuer', 'libero', '.', 'nulla', 'eget', 'ex', 'justo', '.', 'pellentesqu', 'commodo', 'accumsan', 'erat', ',', 'atullamcorp', 'sapien', 'laoreet', 'dignissim', '.', 'proin', 'lacinia', 'sem', 'puru', ',', 'at', 'feugiat', 'augu', 'accumsan', 'sed', '.', 'vivamusa', 'ipsum', 'et', 'duo', 'porta', 'consequat', '.', 'ut', 'condimentum', 'ant', 'sed', 'dignissim', 'pretium', '.', 'duo', 'rutrum', 'viverra', 'metuseu', 'faucibu', '.', 'donec', 'eu', 'congu', 'nisl', ',', 'ultric', 'consequat', 'sapien', '.', 'duo', 'at', 'justo', 'nulla', '.', 'in', 'non', 'est', 'eu', 'exscelerisqu', 'tempor', '.', 'ut', 'sodal', 'dictum', 'pellentesqu', '.', 'proin', 'erat', 'augu', ',', 'ornar', 'ut', 'velit', 'a', ',', 'posueresagitti', 'enim', '.', 'mauri', 'nec', 'fringilla', 'lorem', ',', 'qui', 'tristiqu', 'lectu', '.', 'aenean', 'eu', 'blandit', 'arcu.fusc', 'finibu', 'scelerisqu', 'lectu', ',', 'tincidunt', 'placerat', 'turpi', 'semper', 'nec', '.', 'integ', 'ut', 'tellu', 'eu', 'loremornar', 'congu', '.', 'nullam', 'a', 'ex', 'enim', '.', 'integ', 'id', 'ipsum', 'placerat', ',', 'variu', 'sem', 'qui', ',', 'congu', 'leo', '.', 'sed', 'sodalesest', 'a', 'molesti', 'eleifend', '.', 'duo', 'metu', 'est', ',', 'vestibulum', 'vel', 'porta', 'non', ',', 'feugiat', 'vel', 'leo', '.', 'nam', 'luctu', 'liberoac', 'magna', 'faucibu', 'rutrum', '.', 'in', 'hac', 'habitass', 'platea', 'dictumst', '.', 'proin', 'accumsan', 'posuer', 'feli', 'a', 'sagittis.nunc', 'porttitor', 'pretium', 'lectu', ',', 'at', 'vulput', 'elit', 'pretium', 'nec', '.', 'nullam', 'sollicitudin', 'semper', 'feli', ',', 'vitaeblandit', 'enim', '.', 'nullam', 'consectetur', 'pellentesqu', 'commodo.nullam', 'nec', 'dictum', 'ligula', '.', 'duo', 'nec', 'augu', 'venenati', ',', 'fringilla', 'ant', 'at', ',', 'suscipit', 'turpi', '.', 'quisqueimperdiet', ',', 'orci', 'sit', 'amet', 'feugiat', 'auctor', ',', 'nibh', 'feli', 'feugiat', 'mi', ',', 'vita', 'molesti', 'ex', 'lorem', 'et', 'quam.quisqu', 'rhoncu', 'nisi', 'eu', 'bibendum', 'placerat', '.', 'quisqu', 'et', 'feugiat', 'erat', '.', 'nulla', 'orci', 'sem', ',', 'semper', 'in', 'arcuporttitor', ',', 'ullamcorp', 'malesuada', 'elit', '.', 'orci', 'variu', 'natoqu', 'penatibu', 'et', 'magni', 'di', 'parturi', 'mont', ',', 'nascetur', 'ridiculu', 'mu', '.', 'etiam', 'ullamcorp', 'dignissim', 'risu', 'et', 'dapibu', '.', 'curabitur', 'interdum', 'turpi', 'sitamet', 'sapien', 'dapibu', ',', 'sed', 'bibendum', 'nequ', 'consectetur', '.', 'sed', 'nequ', 'velit', ',', 'conval', 'at', 'est', 'qui', ',', 'variusfeugiat', 'nibh', '.', 'nam', 'bibendum', 'lacinia', 'molli', '.', 'nullam', 'commodo', 'congu', 'matti', '.']\n"
     ]
    }
   ],
   "source": [
    "leme=[]\n",
    "for i in stem:\n",
    "  lemetized_word=lemmatizer.lemmatize(i)\n",
    "  leme.append(lemetized_word)\n",
    "print(leme)"
   ]
  },
  {
   "cell_type": "markdown",
   "metadata": {
    "id": "j40kX6zF8tfU"
   },
   "source": [
    "## POS (Parts of Speech) Tagging\n",
    "\n",
    "Explanation: POS tagging is the process of labeling words in a sentence with their corresponding part of speech, such as nouns, verbs, adjectives, etc.\r\n",
    "Example: In the sentence \"The cat is sleeping,\" POS tagging would label \"The\" as a determiner, \"cat\" as a noun, \"is\" as a verb, and \"sleeping\" as a verb."
   ]
  },
  {
   "cell_type": "markdown",
   "metadata": {},
   "source": [
    "Certainly! Here are the meanings of some common POS (Part-of-Speech) tags:\n",
    "\n",
    "1. **Noun (NN)**: A word that represents a person, place, thing, or idea. Examples: \"cat\", \"house\", \"love\".\n",
    "  \n",
    "2. **Verb (VB)**: A word that expresses an action, occurrence, or state of being. Examples: \"run\", \"eat\", \"is\".\n",
    "\n",
    "3. **Adjective (JJ)**: A word that describes or modifies a noun. Examples: \"big\", \"beautiful\", \"happy\".\n",
    "\n",
    "4. **Adverb (RB)**: A word that modifies a verb, adjective, or another adverb, often indicating manner, time, place, or degree. Examples: \"quickly\", \"very\", \"here\".\n",
    "\n",
    "5. **Determiner (DT)**: A word that introduces a noun and specifies it in terms of definiteness, quantity, or possession. Examples: \"the\", \"a\", \"this\".\n",
    "\n",
    "6. **Preposition (IN)**: A word that shows the relationship between a noun (or pronoun) and other words in a sentence. Examples: \"in\", \"on\", \"at\", \"under\".\n",
    "\n",
    "7. **Conjunction (CC)**: A word that connects words, phrases, or clauses. Examples: \"and\", \"but\", \"or\".\n",
    "\n",
    "8. **Pronoun (PRP)**: A word that replaces a noun or noun phrase. Examples: \"he\", \"she\", \"it\", \"they\".\n",
    "\n",
    "9. **Interjection (UH)**: A word or phrase used to express emotion or surprise. Examples: \"wow\", \"ouch\", \"oh\".\n",
    "\n",
    "10. **Modal Verb (MD)**: A verb that expresses necessity, possibility, ability, or permission. Examples: \"can\", \"must\", \"will\".\n",
    "\n",
    "These are just a few examples of POS tags commonly used in natural language processing. Each tag helps to identify the grammatical role of words in a sentence, which is crucial for many language processing tasks."
   ]
  },
  {
   "cell_type": "code",
   "execution_count": 87,
   "metadata": {
    "colab": {
     "base_uri": "https://localhost:8080/"
    },
    "id": "fInYlozsAuDM",
    "outputId": "0fec2472-0f64-4736-95c5-e739b110ab4f"
   },
   "outputs": [
    {
     "name": "stdout",
     "output_type": "stream",
     "text": [
      "Parts of Speech:  [('lorem', 'NN'), ('ipsum', 'NN'), ('dolor', 'NN'), ('sit', 'NN'), ('amet', 'NN'), (',', ','), ('consectetur', 'NN'), ('adipisc', 'NN'), ('elit', 'NN'), ('.', '.'), ('ut', 'JJ'), ('fringilla', 'NN'), ('risu', 'NN'), ('eu', 'NN'), ('nulla', 'NN'), ('ornar', 'NN'), ('dapibus.nam', 'NN'), ('faucibu', 'NN'), ('erat', 'NN'), ('urna', 'NN'), (',', ','), ('id', 'JJ'), ('aliquam', 'NN'), ('nibh', 'NN'), ('sodal', 'JJ'), ('a.', 'NN'), ('suspendiss', 'JJ'), ('vestibulum', 'NN'), ('elementum', 'NN'), ('enim', 'NN'), ('velullamcorp', 'NN'), ('.', '.'), ('phasellu', 'NN'), ('aliquet', 'NN'), ('cursu', 'NN'), ('lacu', 'NN'), (',', ','), ('eu', 'FW'), ('lacinia', 'NN'), ('ant', 'NN'), ('commodo', 'NN'), ('qui', 'NN'), ('.', '.'), ('proin', 'VB'), ('variu', 'JJ'), ('euismodconsequat', 'NN'), ('.', '.'), ('etiam', 'JJ'), ('pretium', 'NN'), ('iaculi', 'NN'), ('leo', 'NN'), (',', ','), ('vita', 'JJ'), ('dignissim', 'NN'), ('ero', 'NN'), ('consectetur', 'NN'), ('vita', 'NN'), ('.', '.'), ('proin', 'VB'), ('hendrerit', 'NN'), ('justout', 'NN'), ('justo', 'NN'), ('aliquam', 'NN'), ('cursu', 'NN'), ('.', '.'), ('mauri', 'NN'), ('odio', 'NN'), ('magna', 'NN'), (',', ','), ('molesti', 'FW'), ('ut', 'JJ'), ('sodal', 'NN'), ('at', 'IN'), (',', ','), ('ultrici', 'JJ'), ('ut', 'JJ'), ('nulla', 'NN'), ('.', '.'), ('vestibulumvita', 'JJ'), ('turpi', 'NN'), ('egesta', 'NN'), (',', ','), ('suscipit', 'NN'), ('ant', 'NN'), ('a', 'DT'), (',', ','), ('consectetur', 'NN'), ('ex', 'NN'), ('.', '.'), ('cra', 'NN'), ('iaculi', 'NN'), ('massa', 'VBD'), ('a', 'DT'), ('lacinia', 'NN'), ('dapibus.vivamu', 'NN'), ('laoreet', 'NN'), (',', ','), ('magna', 'FW'), ('vehicula', 'FW'), ('commodo', 'NN'), ('venenati', 'NN'), (',', ','), ('sem', 'JJ'), ('nibh', 'NN'), ('molli', 'NN'), ('lacu', 'NN'), (',', ','), ('vita', 'JJ'), ('dictum', 'NN'), ('elit', 'NN'), ('lacusiex', 'NN'), ('.', '.'), ('morbi', 'NN'), ('tempor', 'JJ'), ('eleifend', 'NN'), ('duo', 'NN'), ('.', '.'), ('praesent', 'NN'), ('pellentesqu', 'NN'), ('justo', 'NN'), ('interdum', 'NN'), (',', ','), ('rhoncu', 'VB'), ('mi', 'NN'), ('vita', 'NN'), (',', ','), ('posuer', 'NN'), ('dui.mauri', 'NN'), ('hendrerit', 'NN'), ('justo', 'NN'), ('at', 'IN'), ('pellentesqu', 'JJ'), ('ultric', 'JJ'), ('.', '.'), ('nulla', 'NN'), ('pulvinar', 'NN'), ('lorem', 'NN'), ('nec', 'JJ'), ('ligula', 'NN'), ('aliquet', 'NN'), ('aliquam.curabitur', 'NN'), ('puru', 'NN'), ('dolor', 'NN'), (',', ','), ('fermentum', 'NN'), ('ut', 'JJ'), ('dictum', 'NN'), ('qui', 'NN'), (',', ','), ('dignissim', 'NN'), ('nec', 'JJ'), ('mi', 'NN'), ('.', '.'), ('nunc', 'JJ'), ('eget', 'NN'), ('mauri', 'NN'), ('id', 'NN'), ('nibh', 'JJ'), ('tristiquemolli', 'NN'), ('.', '.'), ('fusc', 'JJ'), ('vehicula', 'NN'), (',', ','), ('arcu', 'JJ'), ('imperdiet', 'JJ'), ('vestibulum', 'NN'), ('variu', 'NN'), (',', ','), ('duo', 'NN'), ('nisi', 'JJ'), ('ultrici', 'JJ'), ('lorem', 'NN'), (',', ','), ('in', 'IN'), ('laoreet', 'NN'), ('ipsumipsum', 'JJ'), ('et', 'NN'), ('feli', 'NN'), ('.', '.'), ('quisqu', 'JJ'), ('diam', 'NN'), ('tellu', 'NN'), (',', ','), ('variu', 'NN'), ('in', 'IN'), ('metu', 'NN'), ('ut', 'NN'), (',', ','), ('congu', 'NN'), ('venenati', 'NN'), ('ant', 'NN'), ('.', '.'), ('quisqu', 'VB'), ('a', 'DT'), ('nisi', 'JJ'), ('nisl.lorem', 'NN'), ('ipsum', 'NN'), ('dolor', 'NN'), ('sit', 'NN'), ('amet', 'NN'), (',', ','), ('consectetur', 'NN'), ('adipisc', 'NN'), ('elit', 'NN'), ('.', '.'), ('sed', 'VBN'), ('rutrum', 'NN'), ('nibh', 'NN'), ('in', 'IN'), ('massa', 'NN'), ('elementumtristiqu', 'NN'), ('.', '.'), ('sed', 'VBN'), ('suscipit', 'JJ'), ('id', 'NN'), ('augu', 'NN'), ('id', 'NN'), ('pharetra', 'NN'), ('.', '.'), ('pellentesqu', 'NN'), ('velit', 'NN'), ('orci', 'NN'), (',', ','), ('accumsan', 'JJ'), ('eu', 'NN'), ('ant', 'JJ'), ('vel', 'NN'), (',', ','), ('variussuscipit', 'NN'), ('orci.donec', 'NN'), ('maximu', 'NN'), ('conval', 'NN'), ('duo', 'NN'), (',', ','), ('et', 'CC'), ('matti', 'NNS'), ('tortor', 'NN'), ('pretium', 'NN'), ('eleifend', 'NN'), ('.', '.'), ('nam', 'JJ'), ('erat', 'NN'), ('justo', 'NN'), (',', ','), ('semper', 'JJR'), ('id', 'NN'), ('semper', 'NN'), ('non', 'NN'), (',', ','), ('vulput', 'FW'), ('eu', 'FW'), ('ligula', 'NN'), ('.', '.'), ('sed', 'VBN'), ('puru', 'NN'), ('augu', 'NN'), (',', ','), ('euismod', 'JJ'), ('eget', 'NN'), ('tellu', 'NN'), ('porttitor', 'NN'), (',', ','), ('lacinia', 'NN'), ('blandit', 'NN'), ('nulla', 'NN'), ('.', '.'), ('sed', 'JJ'), ('nonpretium', 'NN'), ('tortor', 'NN'), (',', ','), ('qui', 'JJ'), ('laoreet', 'NN'), ('nulla', 'NN'), ('.', '.'), ('duo', 'NN'), ('sed', 'VBD'), ('pretium', 'NN'), ('libero', 'NN'), (',', ','), ('qui', 'FW'), ('semper', 'JJR'), ('est', 'JJS'), ('.', '.'), ('nunc', 'JJ'), ('luctu', 'NN'), ('porttitorquam', 'NN'), (',', ','), ('ut', 'JJ'), ('pulvinar', 'NN'), ('metu', 'NN'), ('condimentum', 'NN'), ('eu', 'NN'), ('.', '.'), ('class', 'NN'), ('aptent', 'NN'), ('taciti', 'NN'), ('sociosqu', 'NN'), ('ad', 'NN'), ('litora', 'NN'), ('torquent', 'NN'), ('per', 'IN'), ('conubianostra', 'NN'), (',', ','), ('per', 'IN'), ('incepto', 'NN'), ('himenaeo', 'NN'), ('.', '.'), ('fusc', 'JJ'), ('et', 'NN'), ('velit', 'VBD'), ('a', 'DT'), ('urna', 'JJ'), ('sagitti', 'NN'), ('dignissim.integ', 'NN'), ('rutrum', 'NN'), (',', ','), ('mauri', 'NN'), ('sed', 'VBD'), ('volutpat', 'JJ'), ('loborti', 'NN'), (',', ','), ('nulla', 'NN'), ('feli', 'JJ'), ('pellentesqu', 'NN'), ('duo', 'NN'), (',', ','), ('a', 'DT'), ('egesta', 'JJ'), ('ex', 'NN'), ('magna', 'NN'), ('idtellu', 'NN'), ('.', '.'), ('mauri', 'NN'), ('ut', 'JJ'), ('nisi', 'JJ'), ('dignissim', 'NN'), (',', ','), ('pharetra', 'JJ'), ('lorem', 'NN'), ('a', 'DT'), (',', ','), ('interdum', 'JJ'), ('erat', 'NN'), ('.', '.'), ('suspendiss', 'JJ'), ('nec', 'NN'), ('est', 'JJS'), ('id', 'NN'), ('miefficitur', 'NN'), ('ultric', 'JJ'), ('.', '.'), ('suspendiss', 'JJ'), ('odio', 'NN'), ('nisl', 'NN'), (',', ','), ('commodo', 'VBP'), ('vel', 'JJ'), ('cursu', 'NN'), ('ut', 'NN'), (',', ','), ('hendrerit', 'NN'), ('qui', 'NN'), ('sem', 'NN'), ('.', '.'), ('duo', 'NN'), ('enim', 'NN'), ('elit', 'NN'), (',', ','), ('dapibu', 'NN'), ('nec', 'JJ'), ('auctor', 'NN'), ('sit', 'NN'), ('amet', 'NN'), (',', ','), ('pellentesqu', 'NN'), ('nec', 'JJ'), ('nequ', 'NN'), ('.', '.'), ('sed', 'VBN'), ('velit', 'NN'), ('lorem', 'NN'), (',', ','), ('laoreet', 'NN'), ('at', 'IN'), ('tellu', 'NN'), ('at', 'IN'), (',', ','), ('laoreetmalesuada', 'FW'), ('ipsum', 'NN'), ('.', '.'), ('nam', 'JJ'), ('pulvinar', 'NN'), ('ullamcorp', 'JJ'), ('justo', 'NN'), ('sed', 'VBD'), ('posuer', 'NN'), ('.', '.'), ('ut', 'JJ'), ('aliquam', 'JJ'), ('gravida', 'NN'), ('velit', 'NN'), ('id', 'JJ'), ('tempor.aenean', 'JJ'), ('consequat', 'NN'), ('vehicula', 'NN'), ('ullamcorp', 'NN'), ('.', '.'), ('nunc', 'CC'), ('vulput', 'JJ'), ('mi', 'NN'), ('ex', 'NN'), (',', ','), ('sed', 'VBD'), ('molli', 'JJ'), ('sapien', 'NN'), ('iaculi', 'NN'), ('id', 'NN'), ('.', '.'), ('aeneanfacilisi', 'JJ'), ('nibh', 'JJ'), ('nisl', 'NN'), (',', ','), ('ut', 'JJ'), ('laoreet', 'NN'), ('ipsum', 'JJ'), ('pulvinar', 'NN'), ('ac', 'NN'), ('.', '.'), ('aliquam', 'JJ'), ('consequat', 'NN'), ('odio', 'NN'), ('sed', 'VBD'), ('ligula', 'JJ'), ('elementum', 'NN'), (',', ','), ('nonullamcorp', 'JJ'), ('nibh', 'NN'), ('egesta', 'NN'), ('.', '.'), ('ut', 'JJ'), ('conval', 'JJ'), ('feugiat', 'NN'), ('elit', 'NN'), (',', ','), ('a', 'DT'), ('iaculi', 'JJ'), ('nibh', 'NN'), ('volutpat', 'NN'), ('tempor', 'NN'), ('.', '.'), ('praesent', 'NN'), ('idaugu', 'NN'), ('magna', 'NN'), ('.', '.'), ('praesent', 'NN'), ('consequat', 'NN'), ('id', 'NN'), ('tellu', 'NN'), ('et', 'NN'), ('aliquam', 'NN'), ('.', '.'), ('pellentesqu', 'NN'), ('volutpat', 'NN'), ('feli', 'JJ'), ('qui', 'NN'), ('nibh', 'NN'), ('bibendum', 'NN'), (',', ','), ('ac', 'JJ'), ('consectetur', 'NN'), ('metu', 'NN'), ('commodo.praes', 'NN'), ('condimentum', 'NN'), ('cursu', 'NN'), ('nulla', 'NN'), (',', ','), ('vel', 'NN'), ('tempu', 'NN'), ('ant', 'JJ'), ('molesti', 'NN'), ('ac', 'NN'), ('.', '.'), ('sed', 'VBN'), ('venenati', 'NN'), ('at', 'IN'), ('augu', 'JJ'), ('non', 'JJ'), ('elementum.fusc', 'NN'), ('non', 'NN'), ('venenati', 'NN'), ('magna', 'NN'), ('.', '.'), ('phasellu', 'JJ'), ('sit', 'NN'), ('amet', 'VBD'), ('blandit', 'NN'), ('erat', 'NN'), ('.', '.'), ('nulla', 'NN'), ('posuer', 'NN'), ('velit', 'NN'), ('in', 'IN'), ('commodo', 'NN'), ('egestas.nulla', 'NN'), ('ultric', 'JJ'), ('risu', 'NN'), ('et', 'NN'), ('puru', 'NN'), ('hendrerit', 'NN'), ('fringilla', 'NN'), ('.', '.'), ('fusc', 'NN'), ('in', 'IN'), ('tempor', 'NN'), ('ero', 'NN'), (',', ','), ('ut', 'JJ'), ('imperdiet', 'JJ'), ('nunc', 'NN'), ('.', '.'), ('nuncvenenati', 'CC'), (',', ','), ('nequ', 'JJ'), ('vita', 'NN'), ('tempu', 'NN'), ('ullamcorp', 'NN'), (',', ','), ('elit', 'JJ'), ('augu', 'NN'), ('molli', 'NN'), ('dolor', 'NN'), (',', ','), ('sit', 'NN'), ('amet', 'VBD'), ('eleifend', 'JJ'), ('leo', 'JJ'), ('maurispretium', 'NN'), ('nisl.proin', 'NN'), ('nec', 'JJ'), ('quam', 'NN'), ('non', 'NN'), ('nequ', 'JJ'), ('imperdiet', 'JJ'), ('porttitor', 'NN'), ('sit', 'NN'), ('amet', 'VBD'), ('nec', 'JJ'), ('augu', 'NN'), ('.', '.'), ('aenean', 'NN'), ('at', 'IN'), ('consequat', 'NN'), ('turpi', 'NN'), (',', ','), ('sit', 'NN'), ('ametfeugiat', 'NN'), ('elit', 'NN'), ('.', '.'), ('morbi', 'NN'), ('pharetra', 'JJ'), ('lectu', 'NN'), ('dictum', 'NN'), ('enim', 'NN'), ('ultrici', 'JJ'), ('finibu', 'NN'), ('.', '.'), ('lorem', 'CC'), ('ipsum', 'JJ'), ('dolor', 'NN'), ('sit', 'NN'), ('amet', 'NN'), (',', ','), ('consectetur', 'NN'), ('adipisc', 'NN'), ('elit', 'NN'), ('.', '.'), ('aliquam', 'NN'), ('sed', 'VBD'), ('massa', 'NN'), ('at', 'IN'), ('nisi', 'JJ'), ('sollicitudin', 'NN'), ('molli', 'NN'), ('.', '.'), ('proin', 'VB'), ('variu', 'JJ'), ('elementumtortor', 'NN'), (',', ','), ('tincidunt', 'NN'), ('viverra', 'NN'), ('mi', 'NN'), ('venenati', 'NN'), ('in', 'IN'), ('.', '.'), ('cra', 'NN'), ('non', 'IN'), ('malesuada', 'JJ'), ('arcu.fusc', 'NN'), ('lorem', 'NN'), ('est', 'JJS'), (',', ','), ('ultrici', 'JJ'), ('qui', 'NN'), ('sagitti', 'NNS'), ('eleifend', 'VBP'), (',', ','), ('porttitor', 'NN'), ('at', 'IN'), ('puru', 'NN'), ('.', '.'), ('nullam', 'JJ'), ('molesti', 'NN'), ('puru', 'NN'), ('ac', 'NN'), ('nisieuismod', 'IN'), ('malesuada', 'NN'), ('.', '.'), ('sed', 'VBN'), ('pulvinar', 'NN'), ('non', 'NN'), ('libero', 'NN'), ('qui', 'NN'), ('variu', 'NN'), ('.', '.'), ('in', 'IN'), ('efficitur', 'JJ'), ('ultric', 'JJ'), ('justo', 'NN'), (',', ','), ('vel', 'NN'), ('consecteturmi', 'NN'), ('facilisi', 'NN'), ('non', 'NN'), ('.', '.'), ('quisqu', 'JJ'), ('mi', 'NN'), ('puru', 'NN'), (',', ','), ('efficitur', 'JJ'), ('ut', 'JJ'), ('tempu', 'NN'), ('nec', 'NN'), (',', ','), ('dictum', 'NN'), ('eu', 'NN'), ('urna', 'NN'), ('.', '.'), ('pellentesqu', 'NN'), ('habitantmorbi', 'NN'), ('tristiqu', 'NN'), ('senectu', 'NN'), ('et', 'FW'), ('netu', 'JJ'), ('et', 'FW'), ('malesuada', 'NN'), ('fame', 'NN'), ('ac', 'JJ'), ('turpi', 'NN'), ('egesta', 'NN'), ('.', '.'), ('vestibulum', 'NN'), ('ant', 'JJ'), ('ipsum', 'NN'), ('primisin', 'NN'), ('faucibu', 'NN'), ('orci', 'IN'), ('luctu', 'JJ'), ('et', 'FW'), ('ultric', 'JJ'), ('posuer', 'NN'), ('cubilia', 'NN'), ('cura', 'NN'), (';', ':'), ('pellentesqu', 'CC'), ('sagitti', 'VB'), ('loborti', 'JJ'), ('ex', 'NN'), ('ataccumsan', 'NN'), ('.', '.'), ('aenean', 'JJ'), ('eget', 'NN'), ('duo', 'NN'), ('ac', 'NN'), ('sapien', 'NN'), ('elementum', 'NN'), ('ultrici', 'NN'), ('.', '.'), ('vestibulum', 'NN'), ('eget', 'NN'), ('duo', 'NN'), ('in', 'IN'), ('turpi', 'JJ'), ('egestaselementum', 'NN'), ('.', '.'), ('ut', 'JJ'), ('condimentum', 'NN'), (',', ','), ('est', 'JJS'), ('non', 'NN'), ('aliquet', 'NN'), ('ultrici', 'NN'), (',', ','), ('duo', 'NN'), ('metu', 'NN'), ('variu', 'NN'), ('mauri', 'NN'), (',', ','), ('id', 'JJ'), ('pharetra', 'NN'), ('justo', 'NN'), ('nislnec', 'JJ'), ('duo', 'NN'), ('.', '.'), ('pellentesqu', 'CC'), ('ullamcorp', 'JJ'), ('sollicitudin', 'NN'), ('tellu', 'NN'), (',', ','), ('vita', 'JJ'), ('posuer', 'NN'), ('tellu', 'NN'), ('semper', 'JJR'), ('vel', 'NN'), ('.', '.'), ('donec', 'NN'), ('semelit', 'NN'), (',', ','), ('molesti', 'FW'), ('eget', 'VB'), ('lectu', 'JJ'), ('ac', 'NN'), (',', ','), ('molli', 'FW'), ('feugiat', 'JJ'), ('erat', 'NN'), ('.', '.'), ('aliquam', 'NN'), ('in', 'IN'), ('velit', 'NN'), ('eu', 'NN'), ('lorem', 'NN'), ('suscipit', 'NN'), ('molesti', 'NN'), ('quiseu', 'NN'), ('nisi', 'NN'), ('.', '.'), ('aliquam', 'JJ'), ('ipsum', 'NN'), ('libero', 'NN'), (',', ','), ('blandit', 'NN'), ('vel', 'NN'), ('risu', 'NN'), ('ut', 'NN'), (',', ','), ('porttitor', 'NN'), ('variu', 'NN'), ('turpis.pellentesqu', 'NN'), ('et', 'FW'), ('posuer', 'NN'), ('libero', 'NN'), ('.', '.'), ('nulla', 'NN'), ('eget', 'NN'), ('ex', 'NN'), ('justo', 'NN'), ('.', '.'), ('pellentesqu', 'NN'), ('commodo', 'NN'), ('accumsan', 'JJ'), ('erat', 'NN'), (',', ','), ('atullamcorp', 'JJ'), ('sapien', 'NN'), ('laoreet', 'NN'), ('dignissim', 'NN'), ('.', '.'), ('proin', 'VB'), ('lacinia', 'JJ'), ('sem', 'NN'), ('puru', 'NN'), (',', ','), ('at', 'IN'), ('feugiat', 'JJ'), ('augu', 'NN'), ('accumsan', 'NN'), ('sed', 'VBD'), ('.', '.'), ('vivamusa', 'NN'), ('ipsum', 'JJ'), ('et', 'CC'), ('duo', 'JJ'), ('porta', 'NN'), ('consequat', 'NN'), ('.', '.'), ('ut', 'JJ'), ('condimentum', 'NN'), ('ant', 'NN'), ('sed', 'VBD'), ('dignissim', 'JJ'), ('pretium', 'NN'), ('.', '.'), ('duo', 'NN'), ('rutrum', 'NN'), ('viverra', 'NN'), ('metuseu', 'NN'), ('faucibu', 'NN'), ('.', '.'), ('donec', 'NN'), ('eu', 'JJ'), ('congu', 'NN'), ('nisl', 'NN'), (',', ','), ('ultric', 'JJ'), ('consequat', 'NN'), ('sapien', 'NN'), ('.', '.'), ('duo', 'NN'), ('at', 'IN'), ('justo', 'NN'), ('nulla', 'NN'), ('.', '.'), ('in', 'IN'), ('non', 'JJ'), ('est', 'JJS'), ('eu', 'NN'), ('exscelerisqu', 'NN'), ('tempor', 'NN'), ('.', '.'), ('ut', 'JJ'), ('sodal', 'JJ'), ('dictum', 'NN'), ('pellentesqu', 'NN'), ('.', '.'), ('proin', 'VB'), ('erat', 'JJ'), ('augu', 'NN'), (',', ','), ('ornar', 'JJ'), ('ut', 'JJ'), ('velit', 'NN'), ('a', 'DT'), (',', ','), ('posueresagitti', 'JJ'), ('enim', 'NN'), ('.', '.'), ('mauri', 'NN'), ('nec', 'JJ'), ('fringilla', 'NN'), ('lorem', 'NN'), (',', ','), ('qui', 'JJ'), ('tristiqu', 'NN'), ('lectu', 'NN'), ('.', '.'), ('aenean', 'JJ'), ('eu', 'NN'), ('blandit', 'NN'), ('arcu.fusc', 'NN'), ('finibu', 'NN'), ('scelerisqu', 'NN'), ('lectu', 'NN'), (',', ','), ('tincidunt', 'NN'), ('placerat', 'NN'), ('turpi', 'NN'), ('semper', 'NN'), ('nec', 'NN'), ('.', '.'), ('integ', 'JJ'), ('ut', 'JJ'), ('tellu', 'NN'), ('eu', 'NN'), ('loremornar', 'NN'), ('congu', 'NN'), ('.', '.'), ('nullam', 'CC'), ('a', 'DT'), ('ex', 'JJ'), ('enim', 'NN'), ('.', '.'), ('integ', 'JJ'), ('id', 'JJ'), ('ipsum', 'NN'), ('placerat', 'NN'), (',', ','), ('variu', 'FW'), ('sem', 'NN'), ('qui', 'NN'), (',', ','), ('congu', 'NN'), ('leo', 'NN'), ('.', '.'), ('sed', 'VBN'), ('sodalesest', 'JJS'), ('a', 'DT'), ('molesti', 'JJ'), ('eleifend', 'NN'), ('.', '.'), ('duo', 'NN'), ('metu', 'NN'), ('est', 'JJS'), (',', ','), ('vestibulum', 'FW'), ('vel', 'FW'), ('porta', 'NN'), ('non', 'NN'), (',', ','), ('feugiat', 'JJ'), ('vel', 'NN'), ('leo', 'NN'), ('.', '.'), ('nam', 'JJ'), ('luctu', 'NN'), ('liberoac', 'NN'), ('magna', 'NN'), ('faucibu', 'NN'), ('rutrum', 'NN'), ('.', '.'), ('in', 'IN'), ('hac', 'JJ'), ('habitass', 'NN'), ('platea', 'NN'), ('dictumst', 'NN'), ('.', '.'), ('proin', 'VB'), ('accumsan', 'JJ'), ('posuer', 'NN'), ('feli', 'VBD'), ('a', 'DT'), ('sagittis.nunc', 'JJ'), ('porttitor', 'NN'), ('pretium', 'NN'), ('lectu', 'NN'), (',', ','), ('at', 'IN'), ('vulput', 'NN'), ('elit', 'FW'), ('pretium', 'NN'), ('nec', 'NN'), ('.', '.'), ('nullam', 'JJ'), ('sollicitudin', 'JJ'), ('semper', 'NN'), ('feli', 'NN'), (',', ','), ('vitaeblandit', 'NN'), ('enim', 'NN'), ('.', '.'), ('nullam', 'JJ'), ('consectetur', 'NN'), ('pellentesqu', 'NN'), ('commodo.nullam', 'NN'), ('nec', 'JJ'), ('dictum', 'NN'), ('ligula', 'NN'), ('.', '.'), ('duo', 'NN'), ('nec', 'JJ'), ('augu', 'NN'), ('venenati', 'NN'), (',', ','), ('fringilla', 'NN'), ('ant', 'NN'), ('at', 'IN'), (',', ','), ('suscipit', 'JJ'), ('turpi', 'NN'), ('.', '.'), ('quisqueimperdiet', 'JJ'), (',', ','), ('orci', 'JJ'), ('sit', 'NN'), ('amet', 'VBD'), ('feugiat', 'JJ'), ('auctor', 'NN'), (',', ','), ('nibh', 'JJ'), ('feli', 'JJ'), ('feugiat', 'NN'), ('mi', 'NN'), (',', ','), ('vita', 'JJ'), ('molesti', 'NN'), ('ex', 'NN'), ('lorem', 'FW'), ('et', 'FW'), ('quam.quisqu', 'FW'), ('rhoncu', 'FW'), ('nisi', 'FW'), ('eu', 'FW'), ('bibendum', 'NN'), ('placerat', 'NN'), ('.', '.'), ('quisqu', 'JJ'), ('et', 'JJ'), ('feugiat', 'NN'), ('erat', 'NN'), ('.', '.'), ('nulla', 'NN'), ('orci', 'NN'), ('sem', 'NN'), (',', ','), ('semper', 'NN'), ('in', 'IN'), ('arcuporttitor', 'NN'), (',', ','), ('ullamcorp', 'JJ'), ('malesuada', 'NN'), ('elit', 'NN'), ('.', '.'), ('orci', 'JJ'), ('variu', 'NN'), ('natoqu', 'NN'), ('penatibu', 'NN'), ('et', 'FW'), ('magni', 'NN'), ('di', 'NN'), ('parturi', 'NN'), ('mont', 'NN'), (',', ','), ('nascetur', 'JJ'), ('ridiculu', 'NN'), ('mu', 'NN'), ('.', '.'), ('etiam', 'CC'), ('ullamcorp', 'JJ'), ('dignissim', 'NN'), ('risu', 'NN'), ('et', 'NN'), ('dapibu', 'NN'), ('.', '.'), ('curabitur', 'NN'), ('interdum', 'NN'), ('turpi', 'NN'), ('sitamet', 'VBD'), ('sapien', 'JJ'), ('dapibu', 'NN'), (',', ','), ('sed', 'VBD'), ('bibendum', 'NN'), ('nequ', 'NN'), ('consectetur', 'NN'), ('.', '.'), ('sed', 'VBN'), ('nequ', 'JJ'), ('velit', 'NN'), (',', ','), ('conval', 'NN'), ('at', 'IN'), ('est', 'JJS'), ('qui', 'NN'), (',', ','), ('variusfeugiat', 'JJ'), ('nibh', 'NN'), ('.', '.'), ('nam', 'JJ'), ('bibendum', 'NN'), ('lacinia', 'NN'), ('molli', 'NN'), ('.', '.'), ('nullam', 'JJ'), ('commodo', 'NN'), ('congu', 'NN'), ('matti', 'NN'), ('.', '.')]\n"
     ]
    }
   ],
   "source": [
    "print(\"Parts of Speech: \",nltk.pos_tag(leme))"
   ]
  },
  {
   "cell_type": "markdown",
   "metadata": {
    "id": "R6wQqm_n8xfL"
   },
   "source": [
    "# Stopwords\n",
    "Explanation: Stop words are common words in a language that often don't carry much meaning and are frequently removed from text before further processing or analysis.\r\n",
    "Example: In English, stop words might include words like \"the\", \"is\", \"and\", \"to\", etc. So, if you have the sentence \"The sun is shining brightly,\" stop words removal would eliminate \"the\" and \"is\", leaving \"sun\", \"shining\", and \"brightly\"."
   ]
  },
  {
   "cell_type": "code",
   "execution_count": 88,
   "metadata": {
    "colab": {
     "base_uri": "https://localhost:8080/"
    },
    "id": "Vc6kR19_Avvw",
    "outputId": "48e34359-f958-4b42-b9b9-dea87bf49760"
   },
   "outputs": [
    {
     "name": "stdout",
     "output_type": "stream",
     "text": [
      "['i', 'me', 'my', 'myself', 'we', 'our', 'ours', 'ourselves', 'you', \"you're\", \"you've\", \"you'll\", \"you'd\", 'your', 'yours', 'yourself', 'yourselves', 'he', 'him', 'his', 'himself', 'she', \"she's\", 'her', 'hers', 'herself', 'it', \"it's\", 'its', 'itself', 'they', 'them', 'their', 'theirs', 'themselves', 'what', 'which', 'who', 'whom', 'this', 'that', \"that'll\", 'these', 'those', 'am', 'is', 'are', 'was', 'were', 'be', 'been', 'being', 'have', 'has', 'had', 'having', 'do', 'does', 'did', 'doing', 'a', 'an', 'the', 'and', 'but', 'if', 'or', 'because', 'as', 'until', 'while', 'of', 'at', 'by', 'for', 'with', 'about', 'against', 'between', 'into', 'through', 'during', 'before', 'after', 'above', 'below', 'to', 'from', 'up', 'down', 'in', 'out', 'on', 'off', 'over', 'under', 'again', 'further', 'then', 'once', 'here', 'there', 'when', 'where', 'why', 'how', 'all', 'any', 'both', 'each', 'few', 'more', 'most', 'other', 'some', 'such', 'no', 'nor', 'not', 'only', 'own', 'same', 'so', 'than', 'too', 'very', 's', 't', 'can', 'will', 'just', 'don', \"don't\", 'should', \"should've\", 'now', 'd', 'll', 'm', 'o', 're', 've', 'y', 'ain', 'aren', \"aren't\", 'couldn', \"couldn't\", 'didn', \"didn't\", 'doesn', \"doesn't\", 'hadn', \"hadn't\", 'hasn', \"hasn't\", 'haven', \"haven't\", 'isn', \"isn't\", 'ma', 'mightn', \"mightn't\", 'mustn', \"mustn't\", 'needn', \"needn't\", 'shan', \"shan't\", 'shouldn', \"shouldn't\", 'wasn', \"wasn't\", 'weren', \"weren't\", 'won', \"won't\", 'wouldn', \"wouldn't\"]\n"
     ]
    }
   ],
   "source": [
    "sw_nltk = stopwords.words('english')\n",
    "print(sw_nltk)"
   ]
  },
  {
   "cell_type": "markdown",
   "metadata": {
    "id": "lFeIxDZF84nD"
   },
   "source": [
    "## Words that aren't stopwords in sentence"
   ]
  },
  {
   "cell_type": "code",
   "execution_count": 89,
   "metadata": {
    "colab": {
     "base_uri": "https://localhost:8080/"
    },
    "id": "cfq0Xu21Axj3",
    "outputId": "eae71fa6-4d6c-4073-9b42-b1413a5d7039"
   },
   "outputs": [
    {
     "name": "stdout",
     "output_type": "stream",
     "text": [
      "psychological portrait woman distress manages feel packed feeling despite airy presentation—but that, angry book, shimmer character's rage gripping\n"
     ]
    }
   ],
   "source": [
    "words = [word for word in text.split() if word.lower() not in sw_nltk]\n",
    "new_text = \" \".join(words)\n",
    "print(new_text)"
   ]
  },
  {
   "cell_type": "markdown",
   "metadata": {
    "id": "uwXblxTg_JK8"
   },
   "source": [
    "## Calculating TF-IDF"
   ]
  },
  {
   "cell_type": "markdown",
   "metadata": {},
   "source": [
    "1. **TF (Term Frequency)**:\n",
    "   - **Explanation**: Term Frequency (TF) measures how often a term appears in a document. It's calculated by dividing the number of times a term appears in a document by the total number of terms in that document.\n",
    "   - **Formula**: TF = (Number of times term appears in a document) / (Total number of terms in the document).\n",
    "   - **Example**: If the word \"apple\" appears 5 times in a document containing 100 words, then the TF for \"apple\" in that document is 5/100 = 0.05.\n",
    "\n",
    "2. **IDF (Inverse Document Frequency)**:\n",
    "   - **Explanation**: Inverse Document Frequency (IDF) measures how important a term is within a collection of documents. It's calculated by taking the logarithm of the total number of documents divided by the number of documents containing the term.\n",
    "   - **Formula**: IDF = log_e(Total number of documents / Number of documents containing the term).\n",
    "   - **Example**: If there are 1,000,000 documents in a collection and the word \"apple\" appears in 10,000 of them, then the IDF for \"apple\" is log(1,000,000 / 10,000) = log(100) ≈ 2.\n",
    "\n",
    "3. **TF-IDF (Term Frequency-Inverse Document Frequency)**:\n",
    "   - **Explanation**: TF-IDF combines TF and IDF to evaluate the importance of a term in a document relative to a collection of documents. It gives higher weight to terms that are frequent in a document but rare across the entire document collection.\n",
    "   - **Formula**: TF-IDF = TF * IDF\n",
    "   - **Example**: If the TF for \"apple\" in a document is 0.05 and the IDF for \"apple\" is 2, then the TF-IDF for \"apple\" in that document is 0.05 * 2 = 0.1.\n",
    "\n",
    "In summary, TF measures the frequency of a term within a document, IDF measures the importance of a term across a collection of documents, and TF-IDF combines both to determine the significance of a term within a specific document in relation to the entire document collection. TF-IDF is commonly used in information retrieval and text mining tasks to rank the relevance of documents to a given query."
   ]
  },
  {
   "cell_type": "markdown",
   "metadata": {},
   "source": [
    "Certainly! Here's a list summarizing the uses of TF-IDF:\n",
    "\n",
    "1. **Information Retrieval**: Helps retrieve relevant documents from a collection based on their relevance to a query.\n",
    "2. **Text Mining and Classification**: Preprocesses text data and extracts important features for tasks like sentiment analysis and topic modeling.\n",
    "3. **Keyword Extraction**: Identifies important keywords or phrases within a document.\n",
    "4. **Document Summarization**: Aids in automatic summarization by identifying salient terms or sentences.\n",
    "5. **Search Engine Optimization (SEO)**: Optimizes web pages for better search engine ranking by strategically incorporating relevant keywords."
   ]
  },
  {
   "cell_type": "code",
   "execution_count": 90,
   "metadata": {
    "id": "7OuqgbRuJqez"
   },
   "outputs": [],
   "source": [
    "text_op = []\n",
    "with open('nlp_text.txt', 'r') as file:\n",
    "  for line in file:\n",
    "    text_op.append(line)"
   ]
  },
  {
   "cell_type": "code",
   "execution_count": 91,
   "metadata": {
    "id": "RRniWKPzAy8N"
   },
   "outputs": [],
   "source": [
    "from sklearn.feature_extraction.text import TfidfVectorizer  \n",
    "#The TfidfVectorizer in scikit-learn is a useful tool for converting a collection of raw documents into a matrix of TF-IDF features.\n",
    "                                                    "
   ]
  },
  {
   "cell_type": "code",
   "execution_count": 92,
   "metadata": {
    "colab": {
     "base_uri": "https://localhost:8080/"
    },
    "id": "034BhlZZ_0wM",
    "outputId": "f01ec5b0-0786-4dba-e334-8c46513126ee"
   },
   "outputs": [
    {
     "name": "stdout",
     "output_type": "stream",
     "text": [
      "['Lorem ipsum dolor sit amet, consectetur adipiscing elit. Ut fringilla risus eu nulla ornare dapibus.\\n', 'Nam faucibus erat urna, id aliquam nibh sodales a. Suspendisse vestibulum elementum enim vel\\n', 'ullamcorper. Phasellus aliquet cursus lacus, eu lacinia ante commodo quis. Proin varius euismod\\n', 'consequat. Etiam pretium iaculis leo, vitae dignissim eros consectetur vitae. Proin hendrerit justo\\n', 'ut justo aliquam cursus. Mauris odio magna, molestie ut sodales at, ultricies ut nulla. Vestibulum\\n', 'vitae turpis egestas, suscipit ante a, consectetur ex. Cras iaculis massa a lacinia dapibus.\\n', '\\n', 'Vivamus laoreet, magna vehicula commodo venenatis, sem nibh mollis lacus, vitae dictum elit lacus\\n', 'iex. Morbi tempor eleifend dui. Praesent pellentesque justo interdum, rhoncus mi vitae, posuere dui.\\n', 'Mauris hendrerit justo at pellentesque ultrices. Nulla pulvinar lorem nec ligula aliquet aliquam.\\n', 'Curabitur purus dolor, fermentum ut dictum quis, dignissim nec mi. Nunc eget mauris id nibh tristique\\n', 'mollis. Fusce vehicula, arcu imperdiet vestibulum varius, dui nisi ultricies lorem, in laoreet ipsum\\n', 'ipsum et felis. Quisque diam tellus, varius in metus ut, congue venenatis ante. Quisque a nisi nisl.\\n', 'Lorem ipsum dolor sit amet, consectetur adipiscing elit. Sed rutrum nibh in massa elementum\\n', 'tristique. Sed suscipit id augue id pharetra. Pellentesque velit orci, accumsan eu ante vel, varius\\n', 'suscipit orci.\\n', '\\n', 'Donec maximus convallis dui, et mattis tortor pretium eleifend. Nam erat justo, semper id semper non,\\n', 'vulputate eu ligula. Sed purus augue, euismod eget tellus porttitor, lacinia blandit nulla. Sed non\\n', 'pretium tortor, quis laoreet nulla. Duis sed pretium libero, quis semper est. Nunc luctus porttitor\\n', 'quam, ut pulvinar metus condimentum eu. Class aptent taciti sociosqu ad litora torquent per conubia\\n', 'nostra, per inceptos himenaeos. Fusce et velit a urna sagittis dignissim.\\n', '\\n', 'Integer rutrum, mauris sed volutpat lobortis, nulla felis pellentesque dui, a egestas ex magna id\\n', 'tellus. Mauris ut nisi dignissim, pharetra lorem a, interdum erat. Suspendisse nec est id mi\\n', 'efficitur ultrices. Suspendisse odio nisl, commodo vel cursus ut, hendrerit quis sem. Duis enim elit,\\n', 'dapibus nec auctor sit amet, pellentesque nec neque. Sed velit lorem, laoreet at tellus at, laoreet\\n', 'malesuada ipsum. Nam pulvinar ullamcorper justo sed posuere. Ut aliquam gravida velit id tempor.\\n', 'Aenean consequat vehicula ullamcorper. Nunc vulputate mi ex, sed mollis sapien iaculis id. Aenean\\n', 'facilisis nibh nisl, ut laoreet ipsum pulvinar ac. Aliquam consequat odio sed ligula elementum, non\\n', 'ullamcorper nibh egestas. Ut convallis feugiat elit, a iaculis nibh volutpat tempor. Praesent id\\n', 'augue magna. Praesent consequat id tellus et aliquam. Pellentesque volutpat felis quis nibh bibendum,\\n', 'ac consectetur metus commodo.\\n', '\\n', 'Praesent condimentum cursus nulla, vel tempus ante molestie ac. Sed venenatis at augue non elementum.\\n', 'Fusce non venenatis magna. Phasellus sit amet blandit erat. Nulla posuere velit in commodo egestas.\\n', 'Nulla ultrices risus et purus hendrerit fringilla. Fusce in tempor eros, ut imperdiet nunc. Nunc\\n', 'venenatis, neque vitae tempus ullamcorper, elit augue mollis dolor, sit amet eleifend leo mauris\\n', 'pretium nisl.\\n', '\\n', 'Proin nec quam non neque imperdiet porttitor sit amet nec augue. Aenean at consequat turpis, sit amet\\n', 'feugiat elit. Morbi pharetra lectus dictum enim ultricies finibus. Lorem ipsum dolor sit amet,\\n', 'consectetur adipiscing elit. Aliquam sed massa at nisi sollicitudin mollis. Proin varius elementum\\n', 'tortor, tincidunt viverra mi venenatis in. Cras non malesuada arcu.\\n', '\\n', 'Fusce lorem est, ultricies quis sagittis eleifend, porttitor at purus. Nullam molestie purus ac nisi\\n', 'euismod malesuada. Sed pulvinar non libero quis varius. In efficitur ultrices justo, vel consectetur\\n', 'mi facilisis non. Quisque mi purus, efficitur ut tempus nec, dictum eu urna. Pellentesque habitant\\n', 'morbi tristique senectus et netus et malesuada fames ac turpis egestas. Vestibulum ante ipsum primis\\n', 'in faucibus orci luctus et ultrices posuere cubilia curae; Pellentesque sagittis lobortis ex at\\n', 'accumsan. Aenean eget dui ac sapien elementum ultricies. Vestibulum eget dui in turpis egestas\\n', 'elementum. Ut condimentum, est non aliquet ultricies, dui metus varius mauris, id pharetra justo nisl\\n', 'nec dui. Pellentesque ullamcorper sollicitudin tellus, vitae posuere tellus semper vel. Donec sem\\n', 'elit, molestie eget lectus ac, mollis feugiat erat. Aliquam in velit eu lorem suscipit molestie quis\\n', 'eu nisi. Aliquam ipsum libero, blandit vel risus ut, porttitor varius turpis.\\n', '\\n', 'Pellentesque et posuere libero. Nulla eget ex justo. Pellentesque commodo accumsan erat, at\\n', 'ullamcorper sapien laoreet dignissim. Proin lacinia sem purus, at feugiat augue accumsan sed. Vivamus\\n', 'a ipsum et dui porta consequat. Ut condimentum ante sed dignissim pretium. Duis rutrum viverra metus\\n', 'eu faucibus. Donec eu congue nisl, ultrices consequat sapien. Duis at justo nulla. In non est eu ex\\n', 'scelerisque tempor. Ut sodales dictum pellentesque. Proin erat augue, ornare ut velit a, posuere\\n', 'sagittis enim. Mauris nec fringilla lorem, quis tristique lectus. Aenean eu blandit arcu.\\n', '\\n', 'Fusce finibus scelerisque lectus, tincidunt placerat turpis semper nec. Integer ut tellus eu lorem\\n', 'ornare congue. Nullam a ex enim. Integer id ipsum placerat, varius sem quis, congue leo. Sed sodales\\n', 'est a molestie eleifend. Duis metus est, vestibulum vel porta non, feugiat vel leo. Nam luctus libero\\n', 'ac magna faucibus rutrum. In hac habitasse platea dictumst. Proin accumsan posuere felis a sagittis.\\n', 'Nunc porttitor pretium lectus, at vulputate elit pretium nec. Nullam sollicitudin semper felis, vitae\\n', 'blandit enim. Nullam consectetur pellentesque commodo.\\n', '\\n', 'Nullam nec dictum ligula. Duis nec augue venenatis, fringilla ante at, suscipit turpis. Quisque\\n', 'imperdiet, orci sit amet feugiat auctor, nibh felis feugiat mi, vitae molestie ex lorem et quam.\\n', 'Quisque rhoncus nisi eu bibendum placerat. Quisque et feugiat erat. Nulla orci sem, semper in arcu\\n', 'porttitor, ullamcorper malesuada elit. Orci varius natoque penatibus et magnis dis parturient montes,\\n', 'nascetur ridiculus mus. Etiam ullamcorper dignissim risus et dapibus. Curabitur interdum turpis sit\\n', 'amet sapien dapibus, sed bibendum neque consectetur. Sed neque velit, convallis at est quis, varius\\n', 'feugiat nibh. Nam bibendum lacinia mollis. Nullam commodo congue mattis.\\n']\n"
     ]
    }
   ],
   "source": [
    "tr_idf_model  = TfidfVectorizer(stop_words='english')\n",
    "corpus = text_op\n",
    "tf_idf_vector = tr_idf_model.fit_transform(corpus)\n",
    "print(corpus)"
   ]
  },
  {
   "cell_type": "code",
   "execution_count": 93,
   "metadata": {
    "colab": {
     "base_uri": "https://localhost:8080/"
    },
    "id": "j3EShqgfALQr",
    "outputId": "09f798db-cdb7-4dc6-8846-f3446a76479c"
   },
   "outputs": [
    {
     "name": "stdout",
     "output_type": "stream",
     "text": [
      "<class 'scipy.sparse._csr.csr_matrix'>\n",
      "(77, 180)\n"
     ]
    }
   ],
   "source": [
    "print(type(tf_idf_vector))\n",
    "print(tf_idf_vector.shape)"
   ]
  },
  {
   "cell_type": "code",
   "execution_count": 94,
   "metadata": {
    "colab": {
     "base_uri": "https://localhost:8080/"
    },
    "id": "9v6hHGdpAvDL",
    "outputId": "b97d7643-3f9f-4d17-ce4e-b050a1fcd930"
   },
   "outputs": [
    {
     "name": "stdout",
     "output_type": "stream",
     "text": [
      "[[0. 0. 0. ... 0. 0. 0.]\n",
      " [0. 0. 0. ... 0. 0. 0.]\n",
      " [0. 0. 0. ... 0. 0. 0.]\n",
      " ...\n",
      " [0. 0. 0. ... 0. 0. 0.]\n",
      " [0. 0. 0. ... 0. 0. 0.]\n",
      " [0. 0. 0. ... 0. 0. 0.]]\n"
     ]
    }
   ],
   "source": [
    "tf_idf_array = tf_idf_vector.toarray()\n",
    "print(tf_idf_array)"
   ]
  },
  {
   "cell_type": "code",
   "execution_count": 95,
   "metadata": {
    "colab": {
     "base_uri": "https://localhost:8080/"
    },
    "id": "mo46eQVvA_qr",
    "outputId": "0660f6eb-da09-4873-ba7f-36ec22106089"
   },
   "outputs": [
    {
     "name": "stdout",
     "output_type": "stream",
     "text": [
      "['ac' 'accumsan' 'ad' 'adipiscing' 'aenean' 'aliquam' 'aliquet' 'amet'\n",
      " 'ante' 'aptent' 'arcu' 'auctor' 'augue' 'bibendum' 'blandit' 'class'\n",
      " 'commodo' 'condimentum' 'congue' 'consectetur' 'consequat' 'conubia'\n",
      " 'convallis' 'cras' 'cubilia' 'curabitur' 'curae' 'cursus' 'dapibus'\n",
      " 'diam' 'dictum' 'dictumst' 'dignissim' 'dis' 'dolor' 'donec' 'dui' 'duis'\n",
      " 'efficitur' 'egestas' 'eget' 'eleifend' 'elementum' 'elit' 'enim' 'erat'\n",
      " 'eros' 'est' 'et' 'etiam' 'eu' 'euismod' 'ex' 'facilisis' 'fames'\n",
      " 'faucibus' 'felis' 'fermentum' 'feugiat' 'finibus' 'fringilla' 'fusce'\n",
      " 'gravida' 'habitant' 'habitasse' 'hac' 'hendrerit' 'himenaeos' 'iaculis'\n",
      " 'id' 'iex' 'imperdiet' 'inceptos' 'integer' 'interdum' 'ipsum' 'justo'\n",
      " 'lacinia' 'lacus' 'laoreet' 'lectus' 'leo' 'libero' 'ligula' 'litora'\n",
      " 'lobortis' 'lorem' 'luctus' 'magna' 'magnis' 'malesuada' 'massa' 'mattis'\n",
      " 'mauris' 'maximus' 'metus' 'mi' 'molestie' 'mollis' 'montes' 'morbi'\n",
      " 'mus' 'nam' 'nascetur' 'natoque' 'nec' 'neque' 'netus' 'nibh' 'nisi'\n",
      " 'nisl' 'non' 'nostra' 'nulla' 'nullam' 'nunc' 'odio' 'orci' 'ornare'\n",
      " 'parturient' 'pellentesque' 'penatibus' 'pharetra' 'phasellus' 'placerat'\n",
      " 'platea' 'porta' 'porttitor' 'posuere' 'praesent' 'pretium' 'primis'\n",
      " 'proin' 'pulvinar' 'purus' 'quam' 'quis' 'quisque' 'rhoncus' 'ridiculus'\n",
      " 'risus' 'rutrum' 'sagittis' 'sapien' 'scelerisque' 'sed' 'sem' 'semper'\n",
      " 'senectus' 'sit' 'sociosqu' 'sodales' 'sollicitudin' 'suscipit'\n",
      " 'suspendisse' 'taciti' 'tellus' 'tempor' 'tempus' 'tincidunt' 'torquent'\n",
      " 'tortor' 'tristique' 'turpis' 'ullamcorper' 'ultrices' 'ultricies' 'urna'\n",
      " 'ut' 'varius' 'vehicula' 'vel' 'velit' 'venenatis' 'vestibulum' 'vitae'\n",
      " 'vivamus' 'viverra' 'volutpat' 'vulputate']\n"
     ]
    }
   ],
   "source": [
    "words_set = tr_idf_model.get_feature_names_out()\n",
    "print(words_set)"
   ]
  },
  {
   "cell_type": "code",
   "execution_count": 96,
   "metadata": {
    "colab": {
     "base_uri": "https://localhost:8080/",
     "height": 320
    },
    "id": "EdSgx4evBGGj",
    "outputId": "4a5dc12a-ff2e-4dd9-e88d-3333056cec5e"
   },
   "outputs": [
    {
     "data": {
      "text/html": [
       "<div>\n",
       "<style scoped>\n",
       "    .dataframe tbody tr th:only-of-type {\n",
       "        vertical-align: middle;\n",
       "    }\n",
       "\n",
       "    .dataframe tbody tr th {\n",
       "        vertical-align: top;\n",
       "    }\n",
       "\n",
       "    .dataframe thead th {\n",
       "        text-align: right;\n",
       "    }\n",
       "</style>\n",
       "<table border=\"1\" class=\"dataframe\">\n",
       "  <thead>\n",
       "    <tr style=\"text-align: right;\">\n",
       "      <th></th>\n",
       "      <th>ac</th>\n",
       "      <th>accumsan</th>\n",
       "      <th>ad</th>\n",
       "      <th>adipiscing</th>\n",
       "      <th>aenean</th>\n",
       "      <th>aliquam</th>\n",
       "      <th>aliquet</th>\n",
       "      <th>amet</th>\n",
       "      <th>ante</th>\n",
       "      <th>aptent</th>\n",
       "      <th>...</th>\n",
       "      <th>vehicula</th>\n",
       "      <th>vel</th>\n",
       "      <th>velit</th>\n",
       "      <th>venenatis</th>\n",
       "      <th>vestibulum</th>\n",
       "      <th>vitae</th>\n",
       "      <th>vivamus</th>\n",
       "      <th>viverra</th>\n",
       "      <th>volutpat</th>\n",
       "      <th>vulputate</th>\n",
       "    </tr>\n",
       "  </thead>\n",
       "  <tbody>\n",
       "    <tr>\n",
       "      <th>count</th>\n",
       "      <td>77.000000</td>\n",
       "      <td>77.000000</td>\n",
       "      <td>77.000000</td>\n",
       "      <td>77.000000</td>\n",
       "      <td>77.000000</td>\n",
       "      <td>77.000000</td>\n",
       "      <td>77.000000</td>\n",
       "      <td>77.000000</td>\n",
       "      <td>77.000000</td>\n",
       "      <td>77.000000</td>\n",
       "      <td>...</td>\n",
       "      <td>77.000000</td>\n",
       "      <td>77.000000</td>\n",
       "      <td>77.000000</td>\n",
       "      <td>77.000000</td>\n",
       "      <td>77.000000</td>\n",
       "      <td>77.000000</td>\n",
       "      <td>77.000000</td>\n",
       "      <td>77.000000</td>\n",
       "      <td>77.000000</td>\n",
       "      <td>77.000000</td>\n",
       "    </tr>\n",
       "    <tr>\n",
       "      <th>mean</th>\n",
       "      <td>0.027769</td>\n",
       "      <td>0.018046</td>\n",
       "      <td>0.003893</td>\n",
       "      <td>0.012987</td>\n",
       "      <td>0.017733</td>\n",
       "      <td>0.029345</td>\n",
       "      <td>0.012742</td>\n",
       "      <td>0.029950</td>\n",
       "      <td>0.025199</td>\n",
       "      <td>0.003893</td>\n",
       "      <td>...</td>\n",
       "      <td>0.011520</td>\n",
       "      <td>0.028715</td>\n",
       "      <td>0.025804</td>\n",
       "      <td>0.023387</td>\n",
       "      <td>0.019590</td>\n",
       "      <td>0.027749</td>\n",
       "      <td>0.008349</td>\n",
       "      <td>0.009180</td>\n",
       "      <td>0.012382</td>\n",
       "      <td>0.011502</td>\n",
       "    </tr>\n",
       "    <tr>\n",
       "      <th>std</th>\n",
       "      <td>0.086759</td>\n",
       "      <td>0.069143</td>\n",
       "      <td>0.034163</td>\n",
       "      <td>0.064978</td>\n",
       "      <td>0.080793</td>\n",
       "      <td>0.081392</td>\n",
       "      <td>0.063787</td>\n",
       "      <td>0.085006</td>\n",
       "      <td>0.074653</td>\n",
       "      <td>0.034163</td>\n",
       "      <td>...</td>\n",
       "      <td>0.057784</td>\n",
       "      <td>0.086663</td>\n",
       "      <td>0.076425</td>\n",
       "      <td>0.074710</td>\n",
       "      <td>0.068108</td>\n",
       "      <td>0.085867</td>\n",
       "      <td>0.051679</td>\n",
       "      <td>0.056735</td>\n",
       "      <td>0.061914</td>\n",
       "      <td>0.057516</td>\n",
       "    </tr>\n",
       "    <tr>\n",
       "      <th>min</th>\n",
       "      <td>0.000000</td>\n",
       "      <td>0.000000</td>\n",
       "      <td>0.000000</td>\n",
       "      <td>0.000000</td>\n",
       "      <td>0.000000</td>\n",
       "      <td>0.000000</td>\n",
       "      <td>0.000000</td>\n",
       "      <td>0.000000</td>\n",
       "      <td>0.000000</td>\n",
       "      <td>0.000000</td>\n",
       "      <td>...</td>\n",
       "      <td>0.000000</td>\n",
       "      <td>0.000000</td>\n",
       "      <td>0.000000</td>\n",
       "      <td>0.000000</td>\n",
       "      <td>0.000000</td>\n",
       "      <td>0.000000</td>\n",
       "      <td>0.000000</td>\n",
       "      <td>0.000000</td>\n",
       "      <td>0.000000</td>\n",
       "      <td>0.000000</td>\n",
       "    </tr>\n",
       "    <tr>\n",
       "      <th>25%</th>\n",
       "      <td>0.000000</td>\n",
       "      <td>0.000000</td>\n",
       "      <td>0.000000</td>\n",
       "      <td>0.000000</td>\n",
       "      <td>0.000000</td>\n",
       "      <td>0.000000</td>\n",
       "      <td>0.000000</td>\n",
       "      <td>0.000000</td>\n",
       "      <td>0.000000</td>\n",
       "      <td>0.000000</td>\n",
       "      <td>...</td>\n",
       "      <td>0.000000</td>\n",
       "      <td>0.000000</td>\n",
       "      <td>0.000000</td>\n",
       "      <td>0.000000</td>\n",
       "      <td>0.000000</td>\n",
       "      <td>0.000000</td>\n",
       "      <td>0.000000</td>\n",
       "      <td>0.000000</td>\n",
       "      <td>0.000000</td>\n",
       "      <td>0.000000</td>\n",
       "    </tr>\n",
       "    <tr>\n",
       "      <th>50%</th>\n",
       "      <td>0.000000</td>\n",
       "      <td>0.000000</td>\n",
       "      <td>0.000000</td>\n",
       "      <td>0.000000</td>\n",
       "      <td>0.000000</td>\n",
       "      <td>0.000000</td>\n",
       "      <td>0.000000</td>\n",
       "      <td>0.000000</td>\n",
       "      <td>0.000000</td>\n",
       "      <td>0.000000</td>\n",
       "      <td>...</td>\n",
       "      <td>0.000000</td>\n",
       "      <td>0.000000</td>\n",
       "      <td>0.000000</td>\n",
       "      <td>0.000000</td>\n",
       "      <td>0.000000</td>\n",
       "      <td>0.000000</td>\n",
       "      <td>0.000000</td>\n",
       "      <td>0.000000</td>\n",
       "      <td>0.000000</td>\n",
       "      <td>0.000000</td>\n",
       "    </tr>\n",
       "    <tr>\n",
       "      <th>75%</th>\n",
       "      <td>0.000000</td>\n",
       "      <td>0.000000</td>\n",
       "      <td>0.000000</td>\n",
       "      <td>0.000000</td>\n",
       "      <td>0.000000</td>\n",
       "      <td>0.000000</td>\n",
       "      <td>0.000000</td>\n",
       "      <td>0.000000</td>\n",
       "      <td>0.000000</td>\n",
       "      <td>0.000000</td>\n",
       "      <td>...</td>\n",
       "      <td>0.000000</td>\n",
       "      <td>0.000000</td>\n",
       "      <td>0.000000</td>\n",
       "      <td>0.000000</td>\n",
       "      <td>0.000000</td>\n",
       "      <td>0.000000</td>\n",
       "      <td>0.000000</td>\n",
       "      <td>0.000000</td>\n",
       "      <td>0.000000</td>\n",
       "      <td>0.000000</td>\n",
       "    </tr>\n",
       "    <tr>\n",
       "      <th>max</th>\n",
       "      <td>0.493875</td>\n",
       "      <td>0.308928</td>\n",
       "      <td>0.299775</td>\n",
       "      <td>0.345879</td>\n",
       "      <td>0.539679</td>\n",
       "      <td>0.278103</td>\n",
       "      <td>0.351097</td>\n",
       "      <td>0.407374</td>\n",
       "      <td>0.260630</td>\n",
       "      <td>0.299775</td>\n",
       "      <td>...</td>\n",
       "      <td>0.328443</td>\n",
       "      <td>0.413733</td>\n",
       "      <td>0.273488</td>\n",
       "      <td>0.291749</td>\n",
       "      <td>0.282150</td>\n",
       "      <td>0.470654</td>\n",
       "      <td>0.350434</td>\n",
       "      <td>0.379065</td>\n",
       "      <td>0.326587</td>\n",
       "      <td>0.300141</td>\n",
       "    </tr>\n",
       "  </tbody>\n",
       "</table>\n",
       "<p>8 rows × 180 columns</p>\n",
       "</div>"
      ],
      "text/plain": [
       "              ac   accumsan         ad  adipiscing     aenean    aliquam  \\\n",
       "count  77.000000  77.000000  77.000000   77.000000  77.000000  77.000000   \n",
       "mean    0.027769   0.018046   0.003893    0.012987   0.017733   0.029345   \n",
       "std     0.086759   0.069143   0.034163    0.064978   0.080793   0.081392   \n",
       "min     0.000000   0.000000   0.000000    0.000000   0.000000   0.000000   \n",
       "25%     0.000000   0.000000   0.000000    0.000000   0.000000   0.000000   \n",
       "50%     0.000000   0.000000   0.000000    0.000000   0.000000   0.000000   \n",
       "75%     0.000000   0.000000   0.000000    0.000000   0.000000   0.000000   \n",
       "max     0.493875   0.308928   0.299775    0.345879   0.539679   0.278103   \n",
       "\n",
       "         aliquet       amet       ante     aptent  ...   vehicula        vel  \\\n",
       "count  77.000000  77.000000  77.000000  77.000000  ...  77.000000  77.000000   \n",
       "mean    0.012742   0.029950   0.025199   0.003893  ...   0.011520   0.028715   \n",
       "std     0.063787   0.085006   0.074653   0.034163  ...   0.057784   0.086663   \n",
       "min     0.000000   0.000000   0.000000   0.000000  ...   0.000000   0.000000   \n",
       "25%     0.000000   0.000000   0.000000   0.000000  ...   0.000000   0.000000   \n",
       "50%     0.000000   0.000000   0.000000   0.000000  ...   0.000000   0.000000   \n",
       "75%     0.000000   0.000000   0.000000   0.000000  ...   0.000000   0.000000   \n",
       "max     0.351097   0.407374   0.260630   0.299775  ...   0.328443   0.413733   \n",
       "\n",
       "           velit  venenatis  vestibulum      vitae    vivamus    viverra  \\\n",
       "count  77.000000  77.000000   77.000000  77.000000  77.000000  77.000000   \n",
       "mean    0.025804   0.023387    0.019590   0.027749   0.008349   0.009180   \n",
       "std     0.076425   0.074710    0.068108   0.085867   0.051679   0.056735   \n",
       "min     0.000000   0.000000    0.000000   0.000000   0.000000   0.000000   \n",
       "25%     0.000000   0.000000    0.000000   0.000000   0.000000   0.000000   \n",
       "50%     0.000000   0.000000    0.000000   0.000000   0.000000   0.000000   \n",
       "75%     0.000000   0.000000    0.000000   0.000000   0.000000   0.000000   \n",
       "max     0.273488   0.291749    0.282150   0.470654   0.350434   0.379065   \n",
       "\n",
       "        volutpat  vulputate  \n",
       "count  77.000000  77.000000  \n",
       "mean    0.012382   0.011502  \n",
       "std     0.061914   0.057516  \n",
       "min     0.000000   0.000000  \n",
       "25%     0.000000   0.000000  \n",
       "50%     0.000000   0.000000  \n",
       "75%     0.000000   0.000000  \n",
       "max     0.326587   0.300141  \n",
       "\n",
       "[8 rows x 180 columns]"
      ]
     },
     "execution_count": 96,
     "metadata": {},
     "output_type": "execute_result"
    }
   ],
   "source": [
    "import pandas as pd\n",
    "df_tf_idf = pd.DataFrame(tf_idf_array, columns = words_set)\n",
    "\n",
    "df_tf_idf.describe()"
   ]
  },
  {
   "cell_type": "code",
   "execution_count": 97,
   "metadata": {
    "colab": {
     "base_uri": "https://localhost:8080/",
     "height": 445
    },
    "id": "oZZ7aqtkChQr",
    "outputId": "a1923474-5271-49e2-b8bf-0d4df44b4b67"
   },
   "outputs": [
    {
     "data": {
      "text/html": [
       "<div>\n",
       "<style scoped>\n",
       "    .dataframe tbody tr th:only-of-type {\n",
       "        vertical-align: middle;\n",
       "    }\n",
       "\n",
       "    .dataframe tbody tr th {\n",
       "        vertical-align: top;\n",
       "    }\n",
       "\n",
       "    .dataframe thead th {\n",
       "        text-align: right;\n",
       "    }\n",
       "</style>\n",
       "<table border=\"1\" class=\"dataframe\">\n",
       "  <thead>\n",
       "    <tr style=\"text-align: right;\">\n",
       "      <th></th>\n",
       "      <th>ac</th>\n",
       "      <th>accumsan</th>\n",
       "      <th>ad</th>\n",
       "      <th>adipiscing</th>\n",
       "      <th>aenean</th>\n",
       "      <th>aliquam</th>\n",
       "      <th>aliquet</th>\n",
       "      <th>amet</th>\n",
       "      <th>ante</th>\n",
       "      <th>aptent</th>\n",
       "      <th>...</th>\n",
       "      <th>vehicula</th>\n",
       "      <th>vel</th>\n",
       "      <th>velit</th>\n",
       "      <th>venenatis</th>\n",
       "      <th>vestibulum</th>\n",
       "      <th>vitae</th>\n",
       "      <th>vivamus</th>\n",
       "      <th>viverra</th>\n",
       "      <th>volutpat</th>\n",
       "      <th>vulputate</th>\n",
       "    </tr>\n",
       "  </thead>\n",
       "  <tbody>\n",
       "    <tr>\n",
       "      <th>0</th>\n",
       "      <td>0.0</td>\n",
       "      <td>0.0</td>\n",
       "      <td>0.0</td>\n",
       "      <td>0.314902</td>\n",
       "      <td>0.0</td>\n",
       "      <td>0.000000</td>\n",
       "      <td>0.00000</td>\n",
       "      <td>0.242229</td>\n",
       "      <td>0.000000</td>\n",
       "      <td>0.0</td>\n",
       "      <td>...</td>\n",
       "      <td>0.0</td>\n",
       "      <td>0.000000</td>\n",
       "      <td>0.00000</td>\n",
       "      <td>0.0</td>\n",
       "      <td>0.000000</td>\n",
       "      <td>0.000000</td>\n",
       "      <td>0.0</td>\n",
       "      <td>0.0</td>\n",
       "      <td>0.0</td>\n",
       "      <td>0.0</td>\n",
       "    </tr>\n",
       "    <tr>\n",
       "      <th>1</th>\n",
       "      <td>0.0</td>\n",
       "      <td>0.0</td>\n",
       "      <td>0.0</td>\n",
       "      <td>0.000000</td>\n",
       "      <td>0.0</td>\n",
       "      <td>0.247119</td>\n",
       "      <td>0.00000</td>\n",
       "      <td>0.000000</td>\n",
       "      <td>0.000000</td>\n",
       "      <td>0.0</td>\n",
       "      <td>...</td>\n",
       "      <td>0.0</td>\n",
       "      <td>0.255644</td>\n",
       "      <td>0.00000</td>\n",
       "      <td>0.0</td>\n",
       "      <td>0.275979</td>\n",
       "      <td>0.000000</td>\n",
       "      <td>0.0</td>\n",
       "      <td>0.0</td>\n",
       "      <td>0.0</td>\n",
       "      <td>0.0</td>\n",
       "    </tr>\n",
       "    <tr>\n",
       "      <th>2</th>\n",
       "      <td>0.0</td>\n",
       "      <td>0.0</td>\n",
       "      <td>0.0</td>\n",
       "      <td>0.000000</td>\n",
       "      <td>0.0</td>\n",
       "      <td>0.000000</td>\n",
       "      <td>0.31501</td>\n",
       "      <td>0.000000</td>\n",
       "      <td>0.250671</td>\n",
       "      <td>0.0</td>\n",
       "      <td>...</td>\n",
       "      <td>0.0</td>\n",
       "      <td>0.000000</td>\n",
       "      <td>0.00000</td>\n",
       "      <td>0.0</td>\n",
       "      <td>0.000000</td>\n",
       "      <td>0.000000</td>\n",
       "      <td>0.0</td>\n",
       "      <td>0.0</td>\n",
       "      <td>0.0</td>\n",
       "      <td>0.0</td>\n",
       "    </tr>\n",
       "    <tr>\n",
       "      <th>3</th>\n",
       "      <td>0.0</td>\n",
       "      <td>0.0</td>\n",
       "      <td>0.0</td>\n",
       "      <td>0.000000</td>\n",
       "      <td>0.0</td>\n",
       "      <td>0.000000</td>\n",
       "      <td>0.00000</td>\n",
       "      <td>0.000000</td>\n",
       "      <td>0.000000</td>\n",
       "      <td>0.0</td>\n",
       "      <td>...</td>\n",
       "      <td>0.0</td>\n",
       "      <td>0.000000</td>\n",
       "      <td>0.00000</td>\n",
       "      <td>0.0</td>\n",
       "      <td>0.000000</td>\n",
       "      <td>0.470654</td>\n",
       "      <td>0.0</td>\n",
       "      <td>0.0</td>\n",
       "      <td>0.0</td>\n",
       "      <td>0.0</td>\n",
       "    </tr>\n",
       "    <tr>\n",
       "      <th>4</th>\n",
       "      <td>0.0</td>\n",
       "      <td>0.0</td>\n",
       "      <td>0.0</td>\n",
       "      <td>0.000000</td>\n",
       "      <td>0.0</td>\n",
       "      <td>0.227020</td>\n",
       "      <td>0.00000</td>\n",
       "      <td>0.000000</td>\n",
       "      <td>0.000000</td>\n",
       "      <td>0.0</td>\n",
       "      <td>...</td>\n",
       "      <td>0.0</td>\n",
       "      <td>0.000000</td>\n",
       "      <td>0.00000</td>\n",
       "      <td>0.0</td>\n",
       "      <td>0.253532</td>\n",
       "      <td>0.000000</td>\n",
       "      <td>0.0</td>\n",
       "      <td>0.0</td>\n",
       "      <td>0.0</td>\n",
       "      <td>0.0</td>\n",
       "    </tr>\n",
       "    <tr>\n",
       "      <th>...</th>\n",
       "      <td>...</td>\n",
       "      <td>...</td>\n",
       "      <td>...</td>\n",
       "      <td>...</td>\n",
       "      <td>...</td>\n",
       "      <td>...</td>\n",
       "      <td>...</td>\n",
       "      <td>...</td>\n",
       "      <td>...</td>\n",
       "      <td>...</td>\n",
       "      <td>...</td>\n",
       "      <td>...</td>\n",
       "      <td>...</td>\n",
       "      <td>...</td>\n",
       "      <td>...</td>\n",
       "      <td>...</td>\n",
       "      <td>...</td>\n",
       "      <td>...</td>\n",
       "      <td>...</td>\n",
       "      <td>...</td>\n",
       "      <td>...</td>\n",
       "    </tr>\n",
       "    <tr>\n",
       "      <th>72</th>\n",
       "      <td>0.0</td>\n",
       "      <td>0.0</td>\n",
       "      <td>0.0</td>\n",
       "      <td>0.000000</td>\n",
       "      <td>0.0</td>\n",
       "      <td>0.000000</td>\n",
       "      <td>0.00000</td>\n",
       "      <td>0.000000</td>\n",
       "      <td>0.000000</td>\n",
       "      <td>0.0</td>\n",
       "      <td>...</td>\n",
       "      <td>0.0</td>\n",
       "      <td>0.000000</td>\n",
       "      <td>0.00000</td>\n",
       "      <td>0.0</td>\n",
       "      <td>0.000000</td>\n",
       "      <td>0.000000</td>\n",
       "      <td>0.0</td>\n",
       "      <td>0.0</td>\n",
       "      <td>0.0</td>\n",
       "      <td>0.0</td>\n",
       "    </tr>\n",
       "    <tr>\n",
       "      <th>73</th>\n",
       "      <td>0.0</td>\n",
       "      <td>0.0</td>\n",
       "      <td>0.0</td>\n",
       "      <td>0.000000</td>\n",
       "      <td>0.0</td>\n",
       "      <td>0.000000</td>\n",
       "      <td>0.00000</td>\n",
       "      <td>0.000000</td>\n",
       "      <td>0.000000</td>\n",
       "      <td>0.0</td>\n",
       "      <td>...</td>\n",
       "      <td>0.0</td>\n",
       "      <td>0.000000</td>\n",
       "      <td>0.00000</td>\n",
       "      <td>0.0</td>\n",
       "      <td>0.000000</td>\n",
       "      <td>0.000000</td>\n",
       "      <td>0.0</td>\n",
       "      <td>0.0</td>\n",
       "      <td>0.0</td>\n",
       "      <td>0.0</td>\n",
       "    </tr>\n",
       "    <tr>\n",
       "      <th>74</th>\n",
       "      <td>0.0</td>\n",
       "      <td>0.0</td>\n",
       "      <td>0.0</td>\n",
       "      <td>0.000000</td>\n",
       "      <td>0.0</td>\n",
       "      <td>0.000000</td>\n",
       "      <td>0.00000</td>\n",
       "      <td>0.000000</td>\n",
       "      <td>0.000000</td>\n",
       "      <td>0.0</td>\n",
       "      <td>...</td>\n",
       "      <td>0.0</td>\n",
       "      <td>0.000000</td>\n",
       "      <td>0.00000</td>\n",
       "      <td>0.0</td>\n",
       "      <td>0.000000</td>\n",
       "      <td>0.000000</td>\n",
       "      <td>0.0</td>\n",
       "      <td>0.0</td>\n",
       "      <td>0.0</td>\n",
       "      <td>0.0</td>\n",
       "    </tr>\n",
       "    <tr>\n",
       "      <th>75</th>\n",
       "      <td>0.0</td>\n",
       "      <td>0.0</td>\n",
       "      <td>0.0</td>\n",
       "      <td>0.000000</td>\n",
       "      <td>0.0</td>\n",
       "      <td>0.000000</td>\n",
       "      <td>0.00000</td>\n",
       "      <td>0.219991</td>\n",
       "      <td>0.000000</td>\n",
       "      <td>0.0</td>\n",
       "      <td>...</td>\n",
       "      <td>0.0</td>\n",
       "      <td>0.000000</td>\n",
       "      <td>0.22758</td>\n",
       "      <td>0.0</td>\n",
       "      <td>0.000000</td>\n",
       "      <td>0.000000</td>\n",
       "      <td>0.0</td>\n",
       "      <td>0.0</td>\n",
       "      <td>0.0</td>\n",
       "      <td>0.0</td>\n",
       "    </tr>\n",
       "    <tr>\n",
       "      <th>76</th>\n",
       "      <td>0.0</td>\n",
       "      <td>0.0</td>\n",
       "      <td>0.0</td>\n",
       "      <td>0.000000</td>\n",
       "      <td>0.0</td>\n",
       "      <td>0.000000</td>\n",
       "      <td>0.00000</td>\n",
       "      <td>0.000000</td>\n",
       "      <td>0.000000</td>\n",
       "      <td>0.0</td>\n",
       "      <td>...</td>\n",
       "      <td>0.0</td>\n",
       "      <td>0.000000</td>\n",
       "      <td>0.00000</td>\n",
       "      <td>0.0</td>\n",
       "      <td>0.000000</td>\n",
       "      <td>0.000000</td>\n",
       "      <td>0.0</td>\n",
       "      <td>0.0</td>\n",
       "      <td>0.0</td>\n",
       "      <td>0.0</td>\n",
       "    </tr>\n",
       "  </tbody>\n",
       "</table>\n",
       "<p>77 rows × 180 columns</p>\n",
       "</div>"
      ],
      "text/plain": [
       "     ac  accumsan   ad  adipiscing  aenean   aliquam  aliquet      amet  \\\n",
       "0   0.0       0.0  0.0    0.314902     0.0  0.000000  0.00000  0.242229   \n",
       "1   0.0       0.0  0.0    0.000000     0.0  0.247119  0.00000  0.000000   \n",
       "2   0.0       0.0  0.0    0.000000     0.0  0.000000  0.31501  0.000000   \n",
       "3   0.0       0.0  0.0    0.000000     0.0  0.000000  0.00000  0.000000   \n",
       "4   0.0       0.0  0.0    0.000000     0.0  0.227020  0.00000  0.000000   \n",
       "..  ...       ...  ...         ...     ...       ...      ...       ...   \n",
       "72  0.0       0.0  0.0    0.000000     0.0  0.000000  0.00000  0.000000   \n",
       "73  0.0       0.0  0.0    0.000000     0.0  0.000000  0.00000  0.000000   \n",
       "74  0.0       0.0  0.0    0.000000     0.0  0.000000  0.00000  0.000000   \n",
       "75  0.0       0.0  0.0    0.000000     0.0  0.000000  0.00000  0.219991   \n",
       "76  0.0       0.0  0.0    0.000000     0.0  0.000000  0.00000  0.000000   \n",
       "\n",
       "        ante  aptent  ...  vehicula       vel    velit  venenatis  vestibulum  \\\n",
       "0   0.000000     0.0  ...       0.0  0.000000  0.00000        0.0    0.000000   \n",
       "1   0.000000     0.0  ...       0.0  0.255644  0.00000        0.0    0.275979   \n",
       "2   0.250671     0.0  ...       0.0  0.000000  0.00000        0.0    0.000000   \n",
       "3   0.000000     0.0  ...       0.0  0.000000  0.00000        0.0    0.000000   \n",
       "4   0.000000     0.0  ...       0.0  0.000000  0.00000        0.0    0.253532   \n",
       "..       ...     ...  ...       ...       ...      ...        ...         ...   \n",
       "72  0.000000     0.0  ...       0.0  0.000000  0.00000        0.0    0.000000   \n",
       "73  0.000000     0.0  ...       0.0  0.000000  0.00000        0.0    0.000000   \n",
       "74  0.000000     0.0  ...       0.0  0.000000  0.00000        0.0    0.000000   \n",
       "75  0.000000     0.0  ...       0.0  0.000000  0.22758        0.0    0.000000   \n",
       "76  0.000000     0.0  ...       0.0  0.000000  0.00000        0.0    0.000000   \n",
       "\n",
       "       vitae  vivamus  viverra  volutpat  vulputate  \n",
       "0   0.000000      0.0      0.0       0.0        0.0  \n",
       "1   0.000000      0.0      0.0       0.0        0.0  \n",
       "2   0.000000      0.0      0.0       0.0        0.0  \n",
       "3   0.470654      0.0      0.0       0.0        0.0  \n",
       "4   0.000000      0.0      0.0       0.0        0.0  \n",
       "..       ...      ...      ...       ...        ...  \n",
       "72  0.000000      0.0      0.0       0.0        0.0  \n",
       "73  0.000000      0.0      0.0       0.0        0.0  \n",
       "74  0.000000      0.0      0.0       0.0        0.0  \n",
       "75  0.000000      0.0      0.0       0.0        0.0  \n",
       "76  0.000000      0.0      0.0       0.0        0.0  \n",
       "\n",
       "[77 rows x 180 columns]"
      ]
     },
     "execution_count": 97,
     "metadata": {},
     "output_type": "execute_result"
    }
   ],
   "source": [
    "df_tf_idf"
   ]
  },
  {
   "cell_type": "code",
   "execution_count": 98,
   "metadata": {
    "colab": {
     "base_uri": "https://localhost:8080/",
     "height": 391
    },
    "id": "3hDbgTGDKfk0",
    "outputId": "cb927d32-9e2f-476c-8212-a76a8463aa32"
   },
   "outputs": [
    {
     "data": {
      "image/png": "[encoded data removed]",
      "text/plain": [
       "<Figure size 800x400 with 1 Axes>"
      ]
     },
     "metadata": {},
     "output_type": "display_data"
    }
   ],
   "source": [
    "# Plot of TF-IDF for word \"AIRY\"\n",
    "\n",
    "from matplotlib import pyplot as plt\n",
    "df_tf_idf['adipiscing'].plot(kind='line', figsize=(8, 4), title='adipiscing')\n",
    "plt.gca().spines[['top', 'right']].set_visible(False)"
   ]
  },
  {
   "cell_type": "markdown",
   "metadata": {
    "id": "EvWVeNCWKQyS"
   },
   "source": [
    "This code is using the Matplotlib library to create a line plot of the TF-IDF (Term Frequency-Inverse Document Frequency) values for the term \"adipiscing\" from a DataFrame called `df_tf_idf`. Let's break it down step by step:\r\n",
    "\r\n",
    "1. **Importing Matplotlib**: `from matplotlib import pyplot as plt`\r\n",
    "   - This line imports the pyplot module from the Matplotlib library and gives it the alias `plt`, which is a common convention.\r\n",
    "\r\n",
    "2. **Plotting the data**: `df_tf_idf['adipiscing'].plot(kind='line', figsize=(8, 4), title='adipiscing')`\r\n",
    "   - This line accesses the column labeled 'adipiscing' from the DataFrame `df_tf_idf` and creates a line plot of its values. \r\n",
    "   - `kind='line'` specifies that we want a line plot.\r\n",
    "   - `figsize=(8, 4)` sets the size of the figure to be 8 inches wide and 4 inches tall.\r\n",
    "   - `title='adipiscing'` sets the title of the plot to 'adipiscing'.\r\n",
    "\r\n",
    "3. **Hiding spines**: `plt.gca().spines[['top', 'right']].set_visible(False)`\r\n",
    "   - `plt.gca()` gets the current Axes instance.\r\n",
    "   - `.spines[['top', 'right']]` selects the spines at the top and right sides of the plot.\r\n",
    "   - `.set_visible(False)` hides those selected spines, making the plot cleaner.\r\n",
    "\r\n",
    "In summary, this code generates a line plot of TF-IDF values for the term \"adipiscing\" and customizes the plot appearance by setting its size and hiding the top and right spines. It's useful for visualizing the distribution or trend of the TF-IDF values for this particular term in your dataset."
   ]
  },
  {
   "cell_type": "code",
   "execution_count": null,
   "metadata": {},
   "outputs": [],
   "source": []
  }
 ],
 "metadata": {
  "colab": {
   "provenance": []
  },
  "kernelspec": {
   "display_name": "Python 3 (ipykernel)",
   "language": "python",
   "name": "python3"
  },
  "language_info": {
   "codemirror_mode": {
    "name": "ipython",
    "version": 3
   },
   "file_extension": ".py",
   "mimetype": "text/x-python",
   "name": "python",
   "nbconvert_exporter": "python",
   "pygments_lexer": "ipython3",
   "version": "3.12.3"
  }
 },
 "nbformat": 4,
 "nbformat_minor": 4
}
