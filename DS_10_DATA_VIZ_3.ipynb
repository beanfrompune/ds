{
 "cells": [
  {
   "cell_type": "code",
   "execution_count": null,
   "metadata": {
    "id": "YyxtEr7ZC1Lf"
   },
   "outputs": [],
   "source": [
    "import numpy as np\n",
    "import pandas as pd\n",
    "import matplotlib.pyplot as plt\n",
    "import seaborn as sns"
   ]
  },
  {
   "cell_type": "code",
   "execution_count": null,
   "metadata": {
    "colab": {
     "base_uri": "https://localhost:8080/",
     "height": 423
    },
    "id": "gOwYMmt5C1Lm",
    "outputId": "48407967-1af5-4440-9395-ead259d6af5e"
   },
   "outputs": [],
   "source": [
    "data = pd.read_csv('https://gist.githubusercontent.com/curran/a08a1080b88344b0c8a7/raw/0e7a9b0a5d22642a06d3d5b9bcbad9890c8ee534/iris.csv')\n",
    "data"
   ]
  },
  {
   "cell_type": "code",
   "execution_count": null,
   "metadata": {
    "colab": {
     "base_uri": "https://localhost:8080/",
     "height": 206
    },
    "id": "DwTp-eR7C1Lo",
    "outputId": "70b83a19-1ca5-4106-c523-b4d6085c2a1b"
   },
   "outputs": [],
   "source": [
    "data.head()"
   ]
  },
  {
   "cell_type": "code",
   "execution_count": null,
   "metadata": {
    "colab": {
     "base_uri": "https://localhost:8080/",
     "height": 300
    },
    "id": "XRHK8lUrC1Lp",
    "outputId": "3bc92d13-3b26-49a7-8677-7de2df5d07d5"
   },
   "outputs": [],
   "source": [
    "data.describe()"
   ]
  },
  {
   "cell_type": "code",
   "execution_count": null,
   "metadata": {
    "colab": {
     "base_uri": "https://localhost:8080/",
     "height": 175
    },
    "id": "WuloOcMhC1Lq",
    "outputId": "a6ce67fa-c4ce-460b-a347-560f633b14bb"
   },
   "outputs": [],
   "source": [
    "data.describe(include = 'object')"
   ]
  },
  {
   "cell_type": "code",
   "execution_count": null,
   "metadata": {
    "colab": {
     "base_uri": "https://localhost:8080/"
    },
    "id": "eHzZYIDCC1Lr",
    "outputId": "35e60571-d20c-40ca-ff4a-202641d89252"
   },
   "outputs": [],
   "source": [
    "data.isnull().sum()"
   ]
  },
  {
   "cell_type": "code",
   "execution_count": null,
   "metadata": {
    "colab": {
     "base_uri": "https://localhost:8080/"
    },
    "id": "Lg1GeSGJC1Ls",
    "outputId": "58f9bd02-c0b4-4293-8151-83629481881a"
   },
   "outputs": [],
   "source": [
    "print(\"\\n\\nThe features in the dataset are as follows : \")\n",
    "print(\"1. Sepal length : \", data['sepal_length'].dtype)\n",
    "print(\"2. Sepal width : \", data['sepal_width'].dtype)\n",
    "print(\"3. Petal length : \", data['petal_length'].dtype)\n",
    "print(\"4. Petal width : \", data['petal_width'].dtype)\n",
    "print(\"5. Species : \", data['species'].dtype)"
   ]
  },
  {
   "cell_type": "code",
   "execution_count": null,
   "metadata": {
    "colab": {
     "base_uri": "https://localhost:8080/",
     "height": 297
    },
    "id": "jwXRzz1vC1Lt",
    "outputId": "740ae048-25ca-4070-cab3-3d2e5fab4070"
   },
   "outputs": [],
   "source": [
    "sns.histplot(x = data['sepal_length'], kde=True)"
   ]
  },
  {
   "cell_type": "code",
   "execution_count": null,
   "metadata": {
    "colab": {
     "base_uri": "https://localhost:8080/",
     "height": 297
    },
    "id": "NX_t3fx4C1Lu",
    "outputId": "29f6dcb0-b416-41d1-b4ab-a57a3cb31678"
   },
   "outputs": [],
   "source": [
    "sns.histplot(x = data['sepal_width'], kde=True)"
   ]
  },
  {
   "cell_type": "code",
   "execution_count": null,
   "metadata": {
    "colab": {
     "base_uri": "https://localhost:8080/",
     "height": 297
    },
    "id": "TyPTV-KnC1Lw",
    "outputId": "547e78b7-2877-42cc-d8aa-28c6f5abdb75"
   },
   "outputs": [],
   "source": [
    "sns.histplot(x = data['petal_length'], kde=True)"
   ]
  },
  {
   "cell_type": "code",
   "execution_count": null,
   "metadata": {
    "colab": {
     "base_uri": "https://localhost:8080/",
     "height": 297
    },
    "id": "l009RfFwC1Lx",
    "outputId": "60dae1ff-3982-4f89-a28c-4ef6f1c245da"
   },
   "outputs": [],
   "source": [
    "sns.histplot(x = data['petal_width'], kde=True)"
   ]
  },
  {
   "cell_type": "code",
   "execution_count": null,
   "metadata": {
    "colab": {
     "base_uri": "https://localhost:8080/",
     "height": 352
    },
    "id": "_vj1rRj9C1Ly",
    "outputId": "644d8394-132b-478f-eaa8-2ac6defd41de"
   },
   "outputs": [],
   "source": [
    "sns.boxplot(data['sepal_length'])"
   ]
  },
  {
   "cell_type": "code",
   "execution_count": null,
   "metadata": {
    "colab": {
     "base_uri": "https://localhost:8080/",
     "height": 352
    },
    "id": "8IqnXBK4C1Ly",
    "outputId": "740dd78e-690c-4975-ac06-d96e7f5adc76"
   },
   "outputs": [],
   "source": [
    "sns.boxplot(data['sepal_width'])"
   ]
  },
  {
   "cell_type": "code",
   "execution_count": null,
   "metadata": {
    "colab": {
     "base_uri": "https://localhost:8080/",
     "height": 352
    },
    "id": "wHUFFmpfC1Lz",
    "outputId": "5b483179-c35d-4b5b-f587-410f76b4270b"
   },
   "outputs": [],
   "source": [
    "sns.boxplot(data['petal_length'])"
   ]
  },
  {
   "cell_type": "code",
   "execution_count": null,
   "metadata": {
    "colab": {
     "base_uri": "https://localhost:8080/",
     "height": 352
    },
    "id": "13ElEMCNC1Lz",
    "outputId": "a61254a5-f6f6-418a-a764-c64ffb78c8eb"
   },
   "outputs": [],
   "source": [
    "sns.boxplot(data['petal_width'])"
   ]
  },
  {
   "cell_type": "code",
   "execution_count": null,
   "metadata": {
    "colab": {
     "base_uri": "https://localhost:8080/",
     "height": 297
    },
    "id": "8vY1vBajC1L1",
    "outputId": "b4cd7075-1505-4f13-effa-db1c9328af7a"
   },
   "outputs": [],
   "source": [
    "sns.boxplot(x='sepal_length',y='species',data=data)"
   ]
  },
  {
   "cell_type": "code",
   "execution_count": null,
   "metadata": {
    "colab": {
     "base_uri": "https://localhost:8080/",
     "height": 297
    },
    "id": "gYq__jkfC1L1",
    "outputId": "f77f9f25-a947-46a7-a500-c91684f927d3"
   },
   "outputs": [],
   "source": [
    "sns.boxplot(x='petal_length',y='species',data=data)"
   ]
  },
  {
   "cell_type": "code",
   "execution_count": null,
   "metadata": {},
   "outputs": [],
   "source": [
    "plt.figure(figsize=(10,10))\n",
    "plt.subplot(2,2,1)\n",
    "sns.histplot(data['sepal_length'],kde=True)\n",
    "plt.subplot(2,2,2)\n",
    "sns.histplot(data['sepal_width'],kde=True)\n",
    "plt.subplot(2,2,3)\n",
    "sns.histplot(data['petal_length'],kde=True)\n",
    "plt.subplot(2,2,4)\n",
    "sns.histplot(data['petal_width'],kde=True)\n",
    "\n",
    "plt.show()"
   ]
  },
  {
   "cell_type": "code",
   "execution_count": null,
   "metadata": {},
   "outputs": [],
   "source": [
    "import seaborn as sns\n",
    "import matplotlib.pyplot as plt\n",
    "\n",
    "# Load the 'iris' dataset\n",
    "iris = sns.load_dataset('iris')\n",
    "\n",
    "# Bar plot: Showing the mean of sepal length for each species\n",
    "sns.barplot(x='species', y='sepal_length', data=iris)\n",
    "plt.title('Mean Sepal Length for Each Species')\n",
    "plt.xlabel('Species')\n",
    "plt.ylabel('Mean Sepal Length')\n",
    "plt.show()\n",
    "\n",
    "# Line plot: Showing the change in sepal length over index\n",
    "sns.lineplot(data=iris['sepal_length'], color='blue')\n",
    "plt.title('Change in Sepal Length')\n",
    "plt.xlabel('Index')\n",
    "plt.ylabel('Sepal Length')\n",
    "plt.show()\n",
    "\n",
    "# Violin plot: Showing the distribution of petal length for each species\n",
    "sns.violinplot(x='species', y='petal_length', data=iris)\n",
    "plt.title('Distribution of Petal Length for Each Species')\n",
    "plt.xlabel('Species')\n",
    "plt.ylabel('Petal Length')\n",
    "plt.show()\n",
    "\n",
    "# Histogram: Showing the distribution of sepal width\n",
    "sns.histplot(data=iris['sepal_width'], bins=10, kde=True)\n",
    "plt.title('Distribution of Sepal Width')\n",
    "plt.xlabel('Sepal Width')\n",
    "plt.ylabel('Frequency')\n",
    "plt.show()\n",
    "\n",
    "# Box plot: Showing the distribution of sepal width for each species\n",
    "sns.boxplot(x='species', y='sepal_width', data=iris)\n",
    "plt.title('Distribution of Sepal Width for Each Species')\n",
    "plt.xlabel('Species')\n",
    "plt.ylabel('Sepal Width')\n",
    "plt.show()\n",
    "\n",
    "# Pair plot: Showing pairwise relationships in the dataset\n",
    "sns.pairplot(iris, hue='species')\n",
    "plt.title('Pairwise Relationships in Iris Dataset')\n",
    "plt.show()\n",
    "\n",
    "# Heatmap: Showing the correlation between different features\n",
    "# sns.heatmap(iris.corr(), annot=True, cmap='coolwarm')\n",
    "# plt.title('Correlation Heatmap')\n",
    "# plt.show()\n",
    "\n",
    "# Count plot: Showing the count of each species\n",
    "sns.countplot(x='species', data=iris)\n",
    "plt.title('Count of Each Species')\n",
    "plt.xlabel('Species')\n",
    "plt.ylabel('Count')\n",
    "plt.show()\n",
    "\n",
    "# Scatter plot: Showing the relationship between sepal length and width\n",
    "sns.scatterplot(x='sepal_length', y='sepal_width', data=iris)\n",
    "plt.title('Relationship between Sepal Length and Width')\n",
    "plt.xlabel('Sepal Length')\n",
    "plt.ylabel('Sepal Width')\n",
    "plt.show()\n",
    "\n",
    "# Strip plot: Showing the distribution of petal width for each species\n",
    "sns.stripplot(x='species', y='petal_width', data=iris)\n",
    "plt.title('Distribution of Petal Width for Each Species')\n",
    "plt.xlabel('Species')\n",
    "plt.ylabel('Petal Width')\n",
    "plt.show()\n",
    "\n",
    "# Cat plot: Showing the distribution of sepal length and width for each species\n",
    "sns.catplot(x='species', y='sepal_length', hue='species', col='sepal_width', kind='box', data=iris)\n",
    "plt.show()\n",
    "\n",
    "\n",
    "# Styling plot: Customizing style and context\n",
    "sns.set_style('darkgrid')\n",
    "sns.set_context('talk')\n",
    "sns.histplot(data=iris['petal_length'], bins=10, kde=True)\n",
    "plt.title('Distribution of Petal Length')\n",
    "plt.xlabel('Petal Length')\n",
    "plt.ylabel('Frequency')\n",
    "plt.show()\n"
   ]
  },
  {
   "cell_type": "markdown",
   "metadata": {},
   "source": [
    "Sure, let's go through each of these plots and their uses:\n",
    "\n",
    "1. **Barplot**: A barplot is a graphical display of data using bars of different heights. It is commonly used to compare the frequency, count, or other summary measures for different categories or groups. Barplots are especially useful for categorical data.\n",
    "\n",
    "2. **Lineplot**: A lineplot, also known as a line graph, is a type of plot that displays data points connected by straight line segments. It is typically used to show how a variable changes over time or to visualize trends in data.\n",
    "\n",
    "3. **Violinplot**: A violin plot is a method of plotting numeric data and can be considered a combination of a box plot and a kernel density plot. It shows the distribution of the data across different categories, allowing for a comparison of the distributions.\n",
    "\n",
    "4. **Histplot**: A histplot, short for histogram plot, is a graphical representation of the distribution of numerical data. It consists of bars whose heights indicate the frequency of observations falling into each interval or bin.\n",
    "\n",
    "5. **Boxplot**: A boxplot, also known as a box-and-whisker plot, is a method for graphically depicting groups of numerical data through their quartiles. It displays the distribution of the data along a number line, making it easy to identify outliers, the median, and the spread of the data.\n",
    "\n",
    "6. **Pairplot**: A pairplot is a type of plot in which multiple pairwise scatterplots are drawn for different combinations of variables in a dataset. It is useful for identifying patterns and relationships between variables.\n",
    "\n",
    "7. **Heatmap**: A heatmap is a graphical representation of data where the values of a matrix are represented as colors. It is commonly used to visualize the correlation between variables in a dataset or to display the magnitude of some phenomenon over a two-dimensional grid.\n",
    "\n",
    "8. **Count Plot**: A count plot is a type of barplot that shows the counts of observations in each categorical bin. It is useful for quickly visualizing the distribution of categorical variables.\n",
    "\n",
    "9. **Scatterplot**: A scatterplot is a type of plot that displays values for two variables as points on a two-dimensional coordinate system. It is commonly used to investigate the relationship between two continuous variables and to identify patterns or correlations.\n",
    "\n",
    "10. **Strip Plot**: A strip plot is a type of scatterplot that displays one continuous variable against one categorical variable. It is similar to a scatterplot but with one of the variables being categorical, making it useful for visualizing the distribution of a continuous variable within different categories.\n",
    "\n",
    "11. **Cat Plot**: Cat plot is a term often used in Seaborn, a Python data visualization library. It is a general plot type that encompasses various categorical plots like strip plots, swarm plots, bar plots, etc., depending on the kind of data and the visualization needed.\n",
    "\n",
    "12. **Factor Plot**: Factor plot is another term used in Seaborn that represents a categorical plot. It is similar to the cat plot and can be used to create various categorical plots based on the data and visualization requirements.\n",
    "\n",
    "13. **Styling Plot**: Styling plot refers to the customization and styling options available in data visualization libraries like Matplotlib and Seaborn. This includes changing colors, adding labels and annotations, adjusting axes, and other visual elements to enhance the appearance and clarity of plots.\n",
    "\n",
    "Each of these plots has its own strengths and is suitable for different types of data and analytical tasks. Choosing the right plot depends on the nature of your data and the specific insights you want to gain from visualizing it."
   ]
  },
  {
   "cell_type": "code",
   "execution_count": null,
   "metadata": {},
   "outputs": [],
   "source": []
  }
 ],
 "metadata": {
  "colab": {
   "provenance": []
  },
  "kernelspec": {
   "display_name": "Python 3 (ipykernel)",
   "language": "python",
   "name": "python3"
  },
  "language_info": {
   "codemirror_mode": {
    "name": "ipython",
    "version": 3
   },
   "file_extension": ".py",
   "mimetype": "text/x-python",
   "name": "python",
   "nbconvert_exporter": "python",
   "pygments_lexer": "ipython3",
   "version": "3.12.3"
  }
 },
 "nbformat": 4,
 "nbformat_minor": 4
}
