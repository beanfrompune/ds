{
 "cells": [
  {
   "cell_type": "code",
   "execution_count": null,
   "metadata": {
    "id": "alss5ke8A_5J"
   },
   "outputs": [],
   "source": [
    "import numpy as np\n",
    "import pandas as pd\n",
    "import matplotlib.pyplot as plt\n",
    "import seaborn as sns"
   ]
  },
  {
   "cell_type": "code",
   "execution_count": null,
   "metadata": {
    "colab": {
     "base_uri": "https://localhost:8080/",
     "height": 423
    },
    "id": "Ut6vv0u5BCTB",
    "outputId": "751bb6c4-1e2e-41a5-8513-375073cd90d4"
   },
   "outputs": [],
   "source": [
    "data = pd.read_csv('https://raw.githubusercontent.com/dphi-official/Datasets/master/titanic_data.csv')\n",
    "data"
   ]
  },
  {
   "cell_type": "code",
   "execution_count": null,
   "metadata": {
    "colab": {
     "base_uri": "https://localhost:8080/",
     "height": 175
    },
    "id": "M4N87pypBDT6",
    "outputId": "7f73e898-e39a-4d44-a3d2-0a8ab29284d8"
   },
   "outputs": [],
   "source": [
    "data.describe(include = 'object')"
   ]
  },
  {
   "cell_type": "code",
   "execution_count": null,
   "metadata": {
    "colab": {
     "base_uri": "https://localhost:8080/",
     "height": 300
    },
    "id": "fkgNefGUBFdo",
    "outputId": "c80e18c0-2347-4439-e077-e5124cb9fb93"
   },
   "outputs": [],
   "source": [
    "data.describe()"
   ]
  },
  {
   "cell_type": "code",
   "execution_count": null,
   "metadata": {
    "colab": {
     "base_uri": "https://localhost:8080/"
    },
    "id": "vbd-P5EZBHwe",
    "outputId": "5173cc4a-8aed-4e5c-e2e3-83da0e861027"
   },
   "outputs": [],
   "source": [
    "data.isnull().sum()"
   ]
  },
  {
   "cell_type": "code",
   "execution_count": null,
   "metadata": {
    "id": "NejzpDF9BJzI"
   },
   "outputs": [],
   "source": [
    "data['Age'] = data['Age'].fillna(np.mean(data['Age']))\n"
   ]
  },
  {
   "cell_type": "code",
   "execution_count": null,
   "metadata": {
    "id": "6exkM9MnBLnM"
   },
   "outputs": [],
   "source": [
    "data['Cabin'] = data['Cabin'].fillna(data['Cabin'].mode()[0])\n",
    "data['Embarked'] = data['Embarked'].fillna(data['Embarked'].mode()[0])\n"
   ]
  },
  {
   "cell_type": "code",
   "execution_count": null,
   "metadata": {
    "colab": {
     "base_uri": "https://localhost:8080/"
    },
    "id": "P3uFXNDUBNx7",
    "outputId": "f0a7a4a5-62fb-40f7-cfd6-754dc89bd7c3"
   },
   "outputs": [],
   "source": [
    "data.isnull().sum()"
   ]
  },
  {
   "cell_type": "code",
   "execution_count": null,
   "metadata": {
    "colab": {
     "base_uri": "https://localhost:8080/",
     "height": 467
    },
    "id": "6LSiSgIHBRTs",
    "outputId": "1fa153d2-0a78-4aac-ab90-50eb85652f45"
   },
   "outputs": [],
   "source": [
    "sns.countplot(data['Embarked'])\n"
   ]
  },
  {
   "cell_type": "code",
   "execution_count": null,
   "metadata": {
    "colab": {
     "base_uri": "https://localhost:8080/",
     "height": 467
    },
    "id": "AQDIDiCTBShK",
    "outputId": "0970e01b-5f97-40a5-c6f1-37c1894922a1"
   },
   "outputs": [],
   "source": [
    "sns.countplot(data['Sex'])\n"
   ]
  },
  {
   "cell_type": "code",
   "execution_count": null,
   "metadata": {
    "colab": {
     "base_uri": "https://localhost:8080/",
     "height": 429
    },
    "id": "ahQHVtYsBUMl",
    "outputId": "0e9c52ac-acba-4ff0-eff1-ae373ea07e97"
   },
   "outputs": [],
   "source": [
    "sns.boxplot(data['Age'])"
   ]
  },
  {
   "cell_type": "code",
   "execution_count": null,
   "metadata": {
    "colab": {
     "base_uri": "https://localhost:8080/",
     "height": 429
    },
    "id": "o0NxM9AmBXIj",
    "outputId": "b68f5c88-cdfb-45d5-8fc5-f4880dbd42ad"
   },
   "outputs": [],
   "source": [
    "sns.boxplot(data['Fare'])\n"
   ]
  },
  {
   "cell_type": "code",
   "execution_count": null,
   "metadata": {
    "colab": {
     "base_uri": "https://localhost:8080/",
     "height": 429
    },
    "id": "l9ammhZYBakZ",
    "outputId": "8601d103-5a8a-4bb1-8af0-aba0b383eef4"
   },
   "outputs": [],
   "source": [
    "sns.boxplot(data['Pclass'])\n"
   ]
  },
  {
   "cell_type": "code",
   "execution_count": null,
   "metadata": {
    "colab": {
     "base_uri": "https://localhost:8080/",
     "height": 429
    },
    "id": "i5I6b-07Bb18",
    "outputId": "6f63fe9b-265c-4bea-d6fc-2f07f16c0e6b"
   },
   "outputs": [],
   "source": [
    "sns.boxplot(data['SibSp'])\n"
   ]
  },
  {
   "cell_type": "code",
   "execution_count": null,
   "metadata": {
    "colab": {
     "base_uri": "https://localhost:8080/",
     "height": 524
    },
    "id": "60pnBAyMBdLo",
    "outputId": "f436de4e-14a3-4e7f-bd08-cfd1c9607179"
   },
   "outputs": [],
   "source": [
    "sns.catplot(x= 'Pclass', y = 'Age', data=data, kind = 'box')\n"
   ]
  },
  {
   "cell_type": "code",
   "execution_count": null,
   "metadata": {
    "colab": {
     "base_uri": "https://localhost:8080/",
     "height": 525
    },
    "id": "tvkllpOoBeXD",
    "outputId": "0a6880b1-736b-4a5d-b857-561c5925168b"
   },
   "outputs": [],
   "source": [
    "sns.catplot(x= 'Pclass', y = 'Fare', data=data, kind = 'strip')\n"
   ]
  },
  {
   "cell_type": "code",
   "execution_count": null,
   "metadata": {
    "colab": {
     "base_uri": "https://localhost:8080/",
     "height": 525
    },
    "id": "nfCVot9PBfhf",
    "outputId": "b93c5529-e955-44b8-cbc3-6543ab5f714b"
   },
   "outputs": [],
   "source": [
    "sns.catplot(x= 'Sex', y = 'Fare', data=data, kind = 'strip')\n"
   ]
  },
  {
   "cell_type": "code",
   "execution_count": null,
   "metadata": {
    "colab": {
     "base_uri": "https://localhost:8080/",
     "height": 524
    },
    "id": "4PUdffzaBghH",
    "outputId": "6489b375-3a99-4c7e-dd9c-bd83a393d55f"
   },
   "outputs": [],
   "source": [
    "sns.catplot(x= 'Sex', y = 'Age', data=data, kind = 'strip')\n"
   ]
  },
  {
   "cell_type": "code",
   "execution_count": null,
   "metadata": {
    "colab": {
     "base_uri": "https://localhost:8080/",
     "height": 467
    },
    "id": "JWeExL3_Bhi3",
    "outputId": "cc686a36-00ea-4d99-a285-30350132b670"
   },
   "outputs": [],
   "source": [
    "sns.scatterplot(x = 'Fare', y = 'Pclass', hue = 'Survived', data = data)\n"
   ]
  },
  {
   "cell_type": "code",
   "execution_count": null,
   "metadata": {
    "colab": {
     "base_uri": "https://localhost:8080/",
     "height": 668
    },
    "id": "4g4nkiCGBjNa",
    "outputId": "02ce8d10-a840-4b6c-8b16-6245151423b7"
   },
   "outputs": [],
   "source": [
    "sns.distplot(data['Age'])\n"
   ]
  },
  {
   "cell_type": "code",
   "execution_count": null,
   "metadata": {},
   "outputs": [],
   "source": [
    "# Encode categorical variables\n",
    "titanic_encoded = data.copy()\n",
    "titanic_encoded[\"Sex\"] = titanic_encoded[\"Sex\"].astype(\"Category\").cat.codes\n",
    "titanic_encoded[\"Class\"] = titanic_encoded[\"Class\"].astype(\"Category\").cat.codes\n",
    "titanic_encoded[\"Embarked\"] = titanic_encoded[\"Embarked\"].astype(\"Category\").cat.codes"
   ]
  },
  {
   "cell_type": "code",
   "execution_count": null,
   "metadata": {
    "colab": {
     "base_uri": "https://localhost:8080/",
     "height": 597
    },
    "id": "hJoYnYH_Bk1U",
    "outputId": "731efa3a-ad3a-49d0-a943-a8bc70f6e1c2"
   },
   "outputs": [],
   "source": [
    "tc = data.corr()\n",
    "\n",
    "sns.heatmap(tc, cmap=\"YlGnBu\")\n",
    "plt.title('Correlation')"
   ]
  },
  {
   "cell_type": "code",
   "execution_count": null,
   "metadata": {
    "id": "TxgU43OeBnk1"
   },
   "outputs": [],
   "source": [
    "# Plot histogram of ticket prices\n",
    "plt.figure(figsize=(10, 6))\n",
    "sns.histplot(data['Fare'], bins=20, kde=True, color='skyblue')\n",
    "plt.title('Distribution of Ticket Prices on Titanic')\n",
    "plt.xlabel('Fare')\n",
    "plt.ylabel('Frequency')\n",
    "plt.show()"
   ]
  },
  {
   "cell_type": "code",
   "execution_count": null,
   "metadata": {},
   "outputs": [],
   "source": [
    "import seaborn as sns\n",
    "import matplotlib.pyplot as plt\n",
    "from seaborn import load_dataset\n",
    "\n",
    "# Load the Titanic dataset\n",
    "titanic = sns.load_dataset(\"titanic\")\n",
    "\n",
    "# Set the style for all plots\n",
    "sns.set_style(\"whitegrid\")\n",
    "\n",
    "# Barplot: Plotting the count of passengers in each class\n",
    "plt.figure(figsize=(8, 6))\n",
    "sns.countplot(x=\"class\", data=titanic)\n",
    "plt.title(\"Passenger Class Distribution\")\n",
    "plt.xlabel(\"Class\")\n",
    "plt.ylabel(\"Count\")\n",
    "plt.show()\n",
    "\n",
    "# Lineplot: Plotting the age distribution of passengers\n",
    "plt.figure(figsize=(8, 6))\n",
    "sns.lineplot(data=titanic, x=\"age\", y=\"fare\")\n",
    "plt.title(\"Age vs Fare\")\n",
    "plt.xlabel(\"Age\")\n",
    "plt.ylabel(\"Fare\")\n",
    "plt.show()\n",
    "\n",
    "# Violinplot: Visualizing the distribution of age by class\n",
    "plt.figure(figsize=(10, 6))\n",
    "sns.violinplot(x=\"class\", y=\"age\", data=titanic)\n",
    "plt.title(\"Age Distribution by Class\")\n",
    "plt.xlabel(\"Class\")\n",
    "plt.ylabel(\"Age\")\n",
    "plt.show()\n",
    "\n",
    "# Histplot: Plotting the distribution of fares\n",
    "plt.figure(figsize=(8, 6))\n",
    "sns.histplot(data=titanic, x=\"fare\", kde=True)\n",
    "plt.title(\"Fare Distribution\")\n",
    "plt.xlabel(\"Fare\")\n",
    "plt.ylabel(\"Density\")\n",
    "plt.show()\n",
    "\n",
    "# Boxplot: Visualizing the distribution of fares by class\n",
    "plt.figure(figsize=(10, 6))\n",
    "sns.boxplot(x=\"class\", y=\"fare\", data=titanic)\n",
    "plt.title(\"Fare Distribution by Class\")\n",
    "plt.xlabel(\"Class\")\n",
    "plt.ylabel(\"Fare\")\n",
    "plt.show()\n",
    "\n",
    "# Pairplot: Plotting pairwise relationships in the dataset\n",
    "sns.pairplot(titanic)\n",
    "plt.title(\"Pairwise Relationships in Titanic Dataset\")\n",
    "plt.show()\n",
    "\n",
    "# Heatmap: Visualizing correlation between features\n",
    "plt.figure(figsize=(10, 8))\n",
    "sns.heatmap(titanic.corr(), annot=True, cmap=\"coolwarm\")\n",
    "plt.title(\"Correlation Heatmap\")\n",
    "plt.show()\n",
    "\n",
    "# Count plot: Plotting the count of passengers by sex\n",
    "plt.figure(figsize=(8, 6))\n",
    "sns.countplot(x=\"sex\", data=titanic)\n",
    "plt.title(\"Passenger Gender Distribution\")\n",
    "plt.xlabel(\"Gender\")\n",
    "plt.ylabel(\"Count\")\n",
    "plt.show()\n",
    "\n",
    "# Scatterplot: Plotting age vs fare with hue as class\n",
    "plt.figure(figsize=(10, 6))\n",
    "sns.scatterplot(data=titanic, x=\"age\", y=\"fare\", hue=\"class\")\n",
    "plt.title(\"Age vs Fare with Class\")\n",
    "plt.xlabel(\"Age\")\n",
    "plt.ylabel(\"Fare\")\n",
    "plt.show()\n",
    "\n",
    "# Strip plot: Visualizing age distribution by sex\n",
    "plt.figure(figsize=(10, 6))\n",
    "sns.stripplot(x=\"sex\", y=\"age\", data=titanic)\n",
    "plt.title(\"Age Distribution by Gender\")\n",
    "plt.xlabel(\"Gender\")\n",
    "plt.ylabel(\"Age\")\n",
    "plt.show()\n",
    "\n",
    "# Cat plot: Plotting fare vs class with hue as sex\n",
    "sns.catplot(x=\"class\", y=\"fare\", hue=\"sex\", kind=\"bar\", data=titanic)\n",
    "plt.title(\"Fare vs Class with Gender\")\n",
    "plt.xlabel(\"Class\")\n",
    "plt.ylabel(\"Fare\")\n",
    "plt.show()\n",
    "\n"
   ]
  },
  {
   "cell_type": "markdown",
   "metadata": {},
   "source": [
    "Sure, let's go through each of these plots and their uses:\r\n",
    "\r\n",
    "1. **Barplot**: A barplot is a graphical display of data using bars of different heights. It is commonly used to compare the frequency, count, or other summary measures for different categories or groups. Barplots are especially useful for categorical data.\r\n",
    "\r\n",
    "2. **Lineplot**: A lineplot, also known as a line graph, is a type of plot that displays data points connected by straight line segments. It is typically used to show how a variable changes over time or to visualize trends in data.\r\n",
    "\r\n",
    "3. **Violinplot**: A violin plot is a method of plotting numeric data and can be considered a combination of a box plot and a kernel density plot. It shows the distribution of the data across different categories, allowing for a comparison of the distributions.\r\n",
    "\r\n",
    "4. **Histplot**: A histplot, short for histogram plot, is a graphical representation of the distribution of numerical data. It consists of bars whose heights indicate the frequency of observations falling into each interval or bin.\r\n",
    "\r\n",
    "5. **Boxplot**: A boxplot, also known as a box-and-whisker plot, is a method for graphically depicting groups of numerical data through their quartiles. It displays the distribution of the data along a number line, making it easy to identify outliers, the median, and the spread of the data.\r\n",
    "\r\n",
    "6. **Pairplot**: A pairplot is a type of plot in which multiple pairwise scatterplots are drawn for different combinations of variables in a dataset. It is useful for identifying patterns and relationships between variables.\r\n",
    "\r\n",
    "7. **Heatmap**: A heatmap is a graphical representation of data where the values of a matrix are represented as colors. It is commonly used to visualize the correlation between variables in a dataset or to display the magnitude of some phenomenon over a two-dimensional grid.\r\n",
    "\r\n",
    "8. **Count Plot**: A count plot is a type of barplot that shows the counts of observations in each categorical bin. It is useful for quickly visualizing the distribution of categorical variables.\r\n",
    "\r\n",
    "9. **Scatterplot**: A scatterplot is a type of plot that displays values for two variables as points on a two-dimensional coordinate system. It is commonly used to investigate the relationship between two continuous variables and to identify patterns or correlations.\r\n",
    "\r\n",
    "10. **Strip Plot**: A strip plot is a type of scatterplot that displays one continuous variable against one categorical variable. It is similar to a scatterplot but with one of the variables being categorical, making it useful for visualizing the distribution of a continuous variable within different categories.\r\n",
    "\r\n",
    "11. **Cat Plot**: Cat plot is a term often used in Seaborn, a Python data visualization library. It is a general plot type that encompasses various categorical plots like strip plots, swarm plots, bar plots, etc., depending on the kind of data and the visualization needed.\r\n",
    "\r\n",
    "12. **Factor Plot**: Factor plot is another term used in Seaborn that represents a categorical plot. It is similar to the cat plot and can be used to create various categorical plots based on the data and visualization requirements.\r\n",
    "\r\n",
    "13. **Styling Plot**: Styling plot refers to the customization and styling options available in data visualization libraries like Matplotlib and Seaborn. This includes changing colors, adding labels and annotations, adjusting axes, and other visual elements to enhance the appearance and clarity of plots.\r\n",
    "\r\n",
    "Each of these plots has its own strengths and is suitable for different types of data and analytical tasks. Choosing the right plot depends on the nature of your data and the specific insights you want to gain from visualizing it."
   ]
  },
  {
   "cell_type": "markdown",
   "metadata": {},
   "source": [
    "# inference\n",
    "gender - female  / males\n",
    "passenger class - first  / lower \n",
    "age - childrean and younger  / older individuals\n",
    "fare - high fare will live more / lower fares"
   ]
  },
  {
   "cell_type": "code",
   "execution_count": null,
   "metadata": {},
   "outputs": [],
   "source": [
    "data['Age'] = data['Age'].fillna(np.mean(data['Age']))\n",
    "data['Cabin'] = data['Cabin'].fillna(data['Cabin'].mode()[0])\n",
    "data['Embarked'] = data['Embarked'].fillna(data['Embarked'].mode()[0])"
   ]
  },
  {
   "cell_type": "code",
   "execution_count": null,
   "metadata": {},
   "outputs": [],
   "source": [
    "sns.boxplot(x='Sex', y='Age', hue='Survived', data=data, palette='Set1')\n",
    "plt.title('Plot for distribution of age with respect to each gender')\n",
    "plt.show()"
   ]
  },
  {
   "cell_type": "code",
   "execution_count": null,
   "metadata": {},
   "outputs": [],
   "source": [
    "# pivot_table = pd.pivot_table(df, index='class', columns='alive', values='sex', aggfunc='count')\n",
    "# pivot_table"
   ]
  },
  {
   "cell_type": "code",
   "execution_count": null,
   "metadata": {},
   "outputs": [],
   "source": [
    "sns.boxplot(x = \"Pclass\", y = \"Age\",hue = \"Survived\", data = data)"
   ]
  },
  {
   "cell_type": "code",
   "execution_count": null,
   "metadata": {},
   "outputs": [],
   "source": []
  }
 ],
 "metadata": {
  "colab": {
   "provenance": []
  },
  "kernelspec": {
   "display_name": "Python 3 (ipykernel)",
   "language": "python",
   "name": "python3"
  },
  "language_info": {
   "codemirror_mode": {
    "name": "ipython",
    "version": 3
   },
   "file_extension": ".py",
   "mimetype": "text/x-python",
   "name": "python",
   "nbconvert_exporter": "python",
   "pygments_lexer": "ipython3",
   "version": "3.12.3"
  }
 },
 "nbformat": 4,
 "nbformat_minor": 4
}
